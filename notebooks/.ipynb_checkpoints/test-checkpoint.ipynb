{
 "cells": [
  {
   "cell_type": "code",
   "execution_count": null,
   "id": "1b06a222-3657-4502-bfb0-eb150fd7a8bd",
   "metadata": {},
   "outputs": [],
   "source": []
  },
  {
   "cell_type": "code",
   "execution_count": null,
   "id": "b8daaada-6cd2-4b05-9b95-5d14fb2d83f4",
   "metadata": {},
   "outputs": [],
   "source": [
    "from pathlib import Path\n",
    "import json\n",
    "import re\n",
    "\n",
    "import torch\n",
    "from torch import Tensor\n",
    "import torch.optim as optim\n",
    "from torch.utils.data import Dataset\n",
    "from torch import nn\n",
    "from torch import functional as F\n",
    "\n",
    "import torchvision\n",
    "import torchvision.transforms as transforms\n",
    "import torchvision.models as models\n",
    "\n",
    "import matplotlib.pyplot as plt\n",
    "import numpy as np\n",
    "import pandas as pd\n",
    "\n",
    "from matplotlib import image as mpl_image\n",
    "from typing import Type, Any, Callable, Union, List, Optional\n",
    "\n",
    "from hmmlearn import hmm\n"
   ]
  },
  {
   "cell_type": "code",
   "execution_count": null,
   "id": "6be0ee1a-c8ce-481d-95bd-16feb75c3535",
   "metadata": {},
   "outputs": [],
   "source": [
    "from centrilyze import CentrioleImageFiles, ImageDataset, CentrioleImageModel, HMM, constants, image_transform, target_transform, annotate"
   ]
  },
  {
   "cell_type": "code",
   "execution_count": null,
   "id": "b60004c0-28f6-4c66-bf22-2263c61576bf",
   "metadata": {},
   "outputs": [],
   "source": [
    "batch_size = 4\n",
    "\n",
    "classes = {\"Not_Oriented\": 0, \"Oriented\": 1, \"Precieved_Not_Oriented\": 2, \"Precieved_Oriented\": 3, \"Slanted\": 4, \"Unidentified\": 5}"
   ]
  },
  {
   "cell_type": "code",
   "execution_count": null,
   "id": "1e3ac5d8-a256-49e6-b118-ce8e25d9ad50",
   "metadata": {},
   "outputs": [],
   "source": [
    "test_folder = Path(\"/nic/data/high_low/train\")\n",
    "model_file = Path(\"/nic/models/model_resnet_18_high_low_affine_149.pyt\")\n",
    "annotations_file = Path(\"/nic/annotations.json\")\n",
    "sequences_file = Path(\"/nic/sequences.npy\")\n",
    "emission_matrix_path = Path(\"/nic/emission_matrix.npy\")\n",
    "emission_matrix_path_three_classes = Path(\"/nic/emission_matrix_three_classes.npy\")\n",
    "\n",
    "n_iter=1000"
   ]
  },
  {
   "cell_type": "code",
   "execution_count": null,
   "id": "fb9726c2-d85d-42df-84af-5a53da4e842e",
   "metadata": {
    "tags": []
   },
   "outputs": [],
   "source": [
    "centriole_image_files = CentrioleImageFiles.from_unannotated_images(test_folder)"
   ]
  },
  {
   "cell_type": "code",
   "execution_count": null,
   "id": "c0a36b14-43a3-476c-aeb6-4c91b5915352",
   "metadata": {},
   "outputs": [],
   "source": [
    "testset = ImageDataset.from_centriole_image_files(\n",
    "    centriole_image_files, \n",
    "    image_transform, \n",
    "    target_transform,\n",
    ")"
   ]
  },
  {
   "cell_type": "code",
   "execution_count": null,
   "id": "cb98a1b8-ef42-4124-b07b-226a91334a8d",
   "metadata": {},
   "outputs": [],
   "source": [
    "testloader = torch.utils.data.DataLoader(testset, batch_size=batch_size,\n",
    "                                         shuffle=False, \n",
    "                                         drop_last=True\n",
    "                                        )"
   ]
  },
  {
   "cell_type": "markdown",
   "id": "0e9efed9-3968-45d8-809d-5f8638c21515",
   "metadata": {},
   "source": [
    "# Define the model"
   ]
  },
  {
   "cell_type": "code",
   "execution_count": null,
   "id": "fb5bad73-9fcd-435b-b8b2-f8b249657472",
   "metadata": {},
   "outputs": [],
   "source": [
    "model = CentrioleImageModel()"
   ]
  },
  {
   "cell_type": "markdown",
   "id": "a4d387ce-8a63-48cf-8b39-773e900728b7",
   "metadata": {},
   "source": [
    "# Load the model"
   ]
  },
  {
   "cell_type": "code",
   "execution_count": null,
   "id": "68f5f79f-229d-4ccb-ab5c-f5e30e5f453e",
   "metadata": {},
   "outputs": [],
   "source": [
    "model = CentrioleImageModel()\n"
   ]
  },
  {
   "cell_type": "code",
   "execution_count": null,
   "id": "9c0ee422-7638-4e9c-b0ab-def63fe4a645",
   "metadata": {},
   "outputs": [],
   "source": [
    "model.load_state_dict(torch.load(str(model_file), map_location=torch.device(\"cpu\")))\n"
   ]
  },
  {
   "cell_type": "markdown",
   "id": "e61258e3-cbc0-4431-9d79-ddee8d0e1f05",
   "metadata": {},
   "source": [
    "# Annotate the data with the model"
   ]
  },
  {
   "cell_type": "code",
   "execution_count": null,
   "id": "04b26792-eee7-4d47-9076-9d64a7a2bdfe",
   "metadata": {},
   "outputs": [],
   "source": [
    "annotations = annotate(image_model, dataloader)"
   ]
  },
  {
   "cell_type": "markdown",
   "id": "935b0a00-b530-4a14-b3f4-2ae7aca6c98e",
   "metadata": {},
   "source": [
    "# Output the confusion matrix"
   ]
  },
  {
   "cell_type": "code",
   "execution_count": null,
   "id": "21de974a-385d-4016-b15a-ddd01209a084",
   "metadata": {},
   "outputs": [],
   "source": [
    "confusion_matrix_test_table = get_confusion_matrix(annotations)"
   ]
  },
  {
   "cell_type": "code",
   "execution_count": null,
   "id": "c583afd6-f41e-4697-a1b5-85da0a3eeae2",
   "metadata": {},
   "outputs": [],
   "source": [
    "confusion_matrix_test_table"
   ]
  },
  {
   "cell_type": "markdown",
   "id": "e57a90ff-fe89-48cc-9175-b4ed258f6000",
   "metadata": {},
   "source": [
    "# Save to json"
   ]
  },
  {
   "cell_type": "code",
   "execution_count": null,
   "id": "995623e4-37a7-409e-a0a2-575abaaafdde",
   "metadata": {
    "tags": []
   },
   "outputs": [],
   "source": [
    "# annotations"
   ]
  },
  {
   "cell_type": "code",
   "execution_count": null,
   "id": "80ade83c-6341-4c34-8545-13292de47e6b",
   "metadata": {},
   "outputs": [],
   "source": [
    "new_annotations = {}\n",
    "\n",
    "for path, annotation in annotations.items():\n",
    "    regex = \"_particle\\[([0-9]+)\\]_frame\\[([0-9]+)\\]\"\n",
    "    capture = re.findall(regex, path)\n",
    "    particle = int(capture[0][0])\n",
    "    frame = int(capture[0][1])\n",
    "    try:\n",
    "        new_annotations[particle][frame] = annotation\n",
    "    except:\n",
    "        new_annotations[particle] = {}\n",
    "        new_annotations[particle][frame] = annotation"
   ]
  },
  {
   "cell_type": "code",
   "execution_count": null,
   "id": "d56d6954-7797-461c-8da0-a5a57dce27c5",
   "metadata": {},
   "outputs": [],
   "source": [
    "sequences = {}\n",
    "ordered_annotations = {}\n",
    "\n",
    "k = 0\n",
    "sequence = []\n",
    "for particle in new_annotations:\n",
    "    ordered_annotations[particle] = []\n",
    "    \n",
    "    for j in range(20):\n",
    "        try:\n",
    "            next_annotation = new_annotations[particle][j]\n",
    "            sequence.append(next_annotation)\n",
    "        except:\n",
    "            sequence.append(6)\n",
    "    sequences[k] = sequence\n",
    "    k = k + 1\n",
    "    sequence = []\n",
    "    "
   ]
  },
  {
   "cell_type": "code",
   "execution_count": null,
   "id": "e4f5e500-534b-421f-a949-21ff761b2cbf",
   "metadata": {
    "tags": []
   },
   "outputs": [],
   "source": [
    "# sequences"
   ]
  },
  {
   "cell_type": "code",
   "execution_count": null,
   "id": "e6933835-433c-442e-8a59-98cb30d911ef",
   "metadata": {},
   "outputs": [],
   "source": [
    "full_sequences = [sequence for sequence in sequences.values() if len(sequence) == 20]"
   ]
  },
  {
   "cell_type": "code",
   "execution_count": null,
   "id": "868719e2-cac5-4a8c-a783-ebe4bca3543a",
   "metadata": {},
   "outputs": [],
   "source": [
    "sequences_array = np.array(list(full_sequences))\n",
    "sequences_array.shape"
   ]
  },
  {
   "cell_type": "code",
   "execution_count": null,
   "id": "daa4c65d-f949-4ff6-b64b-49aa7f47d1a3",
   "metadata": {},
   "outputs": [],
   "source": [
    "lengths = [sequences_array.shape[1]]*sequences_array.shape[0]"
   ]
  },
  {
   "cell_type": "code",
   "execution_count": null,
   "id": "71ee2efb-0a44-4dfd-b215-ef60eea5b459",
   "metadata": {},
   "outputs": [],
   "source": [
    "np.save(str(sequences_file), sequences_array)"
   ]
  },
  {
   "cell_type": "code",
   "execution_count": null,
   "id": "98ed4418-e9fc-4dd2-bab4-35744df6ae67",
   "metadata": {},
   "outputs": [],
   "source": [
    "naive_transition_matrix = np.zeros((7,7))\n",
    "for sequence in sequences.values():\n",
    "    prev_state = 6\n",
    "    for state in sequence:\n",
    "        naive_transition_matrix[prev_state, state] += 1\n",
    "        prev_state = state\n"
   ]
  },
  {
   "cell_type": "code",
   "execution_count": null,
   "id": "c50f4d5c-2554-4939-93f5-fde1e7b3ce62",
   "metadata": {},
   "outputs": [],
   "source": [
    "\n",
    "classes = {\n",
    "    \"Not_Oriented\": 0, \n",
    "    \"Oriented\": 1, \n",
    "    \"Precieved_Not_Oriented\": 2, \n",
    "    \"Precieved_Oriented\": 3, \n",
    "    \"Slanted\": 4, \n",
    "    \"Unidentified\": 5, \n",
    "    \"No_sample\": 6,\n",
    "}\n",
    "naive_transition_matrix = naive_transition_matrix / np.sum(naive_transition_matrix, axis=1).reshape((-1,1))\n",
    "print(np.sum(naive_transition_matrix, axis=1))\n",
    "\n",
    "naive_transition_table = pd.DataFrame(\n",
    "data=naive_transition_matrix,\n",
    "index=list(classes.keys()),\n",
    "columns=list(classes.keys()))\n",
    " "
   ]
  },
  {
   "cell_type": "markdown",
   "id": "f01e5f3f-e2b2-41c4-91c3-f7ca909be679",
   "metadata": {},
   "source": [
    "## Output the naive transition matrix"
   ]
  },
  {
   "cell_type": "code",
   "execution_count": null,
   "id": "651ff53e-3271-4f32-b9fb-0a9fb5edf3bb",
   "metadata": {},
   "outputs": [],
   "source": [
    "naive_transition_table"
   ]
  },
  {
   "cell_type": "markdown",
   "id": "e2a46af7-b116-42c0-864a-2f3e69758bf7",
   "metadata": {},
   "source": [
    "# Hidden Markov model"
   ]
  },
  {
   "cell_type": "markdown",
   "id": "022c1832-391c-4501-8609-b2ba80cfaa38",
   "metadata": {},
   "source": [
    "## Load the emission matrix"
   ]
  },
  {
   "cell_type": "code",
   "execution_count": null,
   "id": "4f666150-c353-45ae-b250-f8ffaa5873be",
   "metadata": {},
   "outputs": [],
   "source": [
    "emission_matrix_np = np.load(emission_matrix_path)"
   ]
  },
  {
   "cell_type": "code",
   "execution_count": null,
   "id": "393c0bf1-5641-4ce6-8c23-753028bb6804",
   "metadata": {},
   "outputs": [],
   "source": [
    "emission_matrix_np"
   ]
  },
  {
   "cell_type": "code",
   "execution_count": null,
   "id": "c82a70cc-c46d-4e44-a69f-767a72532a19",
   "metadata": {},
   "outputs": [],
   "source": [
    "emission_matrix_np.shape"
   ]
  },
  {
   "cell_type": "markdown",
   "id": "1db9e945-d003-4271-9a9b-bd75055bb9ca",
   "metadata": {},
   "source": [
    "## Define the model"
   ]
  },
  {
   "cell_type": "code",
   "execution_count": null,
   "id": "b9ce28ac-3e10-4fd1-a477-a0d021549622",
   "metadata": {},
   "outputs": [],
   "source": [
    "model = hmm.MultinomialHMM(n_components=7, n_iter=n_iter, params=\"st\", init_params=\"st\")"
   ]
  },
  {
   "cell_type": "code",
   "execution_count": null,
   "id": "56703c06-49e6-4e61-9575-ca3d8efe8f04",
   "metadata": {},
   "outputs": [],
   "source": [
    "model.emissionprob_ = emission_matrix_np"
   ]
  },
  {
   "cell_type": "code",
   "execution_count": null,
   "id": "e8bc938a-cd6e-4c5c-8492-9311a9979400",
   "metadata": {},
   "outputs": [],
   "source": [
    "sequences_array.shape"
   ]
  },
  {
   "cell_type": "markdown",
   "id": "5bd05759-99fa-4230-9956-6887140d6e42",
   "metadata": {},
   "source": [
    "## Fit the model"
   ]
  },
  {
   "cell_type": "code",
   "execution_count": null,
   "id": "53599006-f002-4b19-8b4f-66e42b11ede0",
   "metadata": {},
   "outputs": [],
   "source": [
    "model.fit(sequences_array.reshape(-1, 1), lengths)"
   ]
  },
  {
   "cell_type": "markdown",
   "id": "dca8959e-d367-4856-85d9-25123a5b1054",
   "metadata": {},
   "source": [
    "## Format the model output"
   ]
  },
  {
   "cell_type": "code",
   "execution_count": null,
   "id": "fd6cff48-a924-4219-ae93-483321dff465",
   "metadata": {},
   "outputs": [],
   "source": [
    "classes = {\n",
    "    \"Not_Oriented\": 0, \n",
    "    \"Oriented\": 1, \n",
    "    \"Precieved_Not_Oriented\": 2, \n",
    "    \"Precieved_Oriented\": 3, \n",
    "    \"Slanted\": 4, \n",
    "    \"Unidentified\": 5, \n",
    "    \"No_sample\": 6,\n",
    "}\n",
    "transition_table = pd.DataFrame(\n",
    "data=model.transmat_,\n",
    "index=list(classes.keys()),\n",
    "columns=list(classes.keys()))\n"
   ]
  },
  {
   "cell_type": "code",
   "execution_count": null,
   "id": "3bf6b954-ccff-4b25-8a82-34960d0a11ce",
   "metadata": {},
   "outputs": [],
   "source": []
  },
  {
   "cell_type": "markdown",
   "id": "f628e1e6-f122-4b85-a78b-d7ea2af96dcc",
   "metadata": {},
   "source": [
    "## Output the transition matrix"
   ]
  },
  {
   "cell_type": "code",
   "execution_count": null,
   "id": "45ce96af-f08b-45f2-a962-d75fecba787a",
   "metadata": {},
   "outputs": [],
   "source": [
    "transition_table"
   ]
  },
  {
   "cell_type": "code",
   "execution_count": null,
   "id": "50314fe2-108a-4f26-bc01-0c5c1c1e55f8",
   "metadata": {},
   "outputs": [],
   "source": []
  },
  {
   "cell_type": "markdown",
   "id": "e2939008-50cd-472c-9b6a-011e99e684eb",
   "metadata": {},
   "source": [
    "# Hidden Markov model: Three Classes"
   ]
  },
  {
   "cell_type": "code",
   "execution_count": null,
   "id": "65c7c40e-59d2-4bb8-90ee-d13bf1972ccf",
   "metadata": {
    "tags": []
   },
   "outputs": [],
   "source": [
    "# annotations"
   ]
  },
  {
   "cell_type": "code",
   "execution_count": null,
   "id": "b92a110e-fccc-4f9a-a1ec-12785e856045",
   "metadata": {},
   "outputs": [],
   "source": [
    "annotation_mapping = {\n",
    "    0: 0, \n",
    "    1: 1, \n",
    "    2: 0, \n",
    "    3: 1, \n",
    "    4: 2, \n",
    "    5: 3, \n",
    "    6: 4,\n",
    "}"
   ]
  },
  {
   "cell_type": "code",
   "execution_count": null,
   "id": "e1ac06fe-ea24-4c2e-9c8e-a7e5918979a3",
   "metadata": {},
   "outputs": [],
   "source": [
    "new_annotations = {}\n",
    "\n",
    "for path, annotation in annotations.items():\n",
    "    regex = \"_particle\\[([0-9]+)\\]_frame\\[([0-9]+)\\]\"\n",
    "    capture = re.findall(regex, path)\n",
    "    particle = int(capture[0][0])\n",
    "    frame = int(capture[0][1])\n",
    "    try:\n",
    "        new_annotations[particle][frame] = annotation_mapping[annotation]\n",
    "    except:\n",
    "        new_annotations[particle] = {}\n",
    "        new_annotations[particle][frame] = annotation_mapping[annotation]"
   ]
  },
  {
   "cell_type": "code",
   "execution_count": null,
   "id": "9a91cf3f-9db5-47e6-8ac1-f03c8342e96e",
   "metadata": {},
   "outputs": [],
   "source": [
    "sequences = {}\n",
    "ordered_annotations = {}\n",
    "\n",
    "k = 0\n",
    "sequence = []\n",
    "for particle in new_annotations:\n",
    "    ordered_annotations[particle] = []\n",
    "    \n",
    "    for j in range(20):\n",
    "        try:\n",
    "            next_annotation = new_annotations[particle][j]\n",
    "            sequence.append(next_annotation)\n",
    "        except:\n",
    "            sequence.append(4)\n",
    "    sequences[k] = sequence\n",
    "    k = k + 1\n",
    "    sequence = []\n",
    "    "
   ]
  },
  {
   "cell_type": "code",
   "execution_count": null,
   "id": "fbd30caf-25ef-44c5-be58-84c91acc9669",
   "metadata": {},
   "outputs": [],
   "source": [
    "full_sequences = [sequence for sequence in sequences.values() if len(sequence) == 20]"
   ]
  },
  {
   "cell_type": "code",
   "execution_count": null,
   "id": "b02fb1ab-6517-47d0-acca-4734b4d987d0",
   "metadata": {
    "tags": []
   },
   "outputs": [],
   "source": [
    "# full_sequences"
   ]
  },
  {
   "cell_type": "code",
   "execution_count": null,
   "id": "c8ae9b03-984f-4f61-8ac8-894410c4937e",
   "metadata": {},
   "outputs": [],
   "source": [
    "sequences_array = np.array(list(full_sequences))\n",
    "sequences_array.shape"
   ]
  },
  {
   "cell_type": "code",
   "execution_count": null,
   "id": "04d4710a-6d92-41d8-a8f1-820ecf1e42d1",
   "metadata": {},
   "outputs": [],
   "source": [
    "lengths = [sequences_array.shape[1]]*sequences_array.shape[0]"
   ]
  },
  {
   "cell_type": "code",
   "execution_count": null,
   "id": "c916af91-066a-4a2b-9442-a466f2104a7e",
   "metadata": {},
   "outputs": [],
   "source": [
    "np.save(str(sequences_file), sequences_array)"
   ]
  },
  {
   "cell_type": "code",
   "execution_count": null,
   "id": "d5c2548b-f10b-4f02-953f-5e63d2f64e5b",
   "metadata": {},
   "outputs": [],
   "source": [
    "naive_transition_matrix = np.zeros((5,5))\n",
    "for sequence in sequences.values():\n",
    "    prev_state = 4\n",
    "    for state in sequence:\n",
    "        naive_transition_matrix[prev_state, state] += 1\n",
    "        prev_state = state\n"
   ]
  },
  {
   "cell_type": "code",
   "execution_count": null,
   "id": "3ce837bc-9e08-4267-bb94-c3889d579059",
   "metadata": {},
   "outputs": [],
   "source": [
    "naive_transition_matrix"
   ]
  },
  {
   "cell_type": "code",
   "execution_count": null,
   "id": "85224cc3-f339-42b0-8363-fb7e084ea449",
   "metadata": {},
   "outputs": [],
   "source": [
    "\n",
    "classes = {\n",
    "    \"Not_Oriented\": 0, \n",
    "    \"Oriented\": 1, \n",
    "    \"Slanted\": 2, \n",
    "    \"Unidentified\": 3, \n",
    "    \"No_sample\": 4,\n",
    "}\n",
    "naive_transition_matrix = naive_transition_matrix / np.sum(naive_transition_matrix, axis=1).reshape((-1,1))\n",
    "print(np.sum(naive_transition_matrix, axis=1))\n",
    "\n",
    "naive_transition_table = pd.DataFrame(\n",
    "data=naive_transition_matrix,\n",
    "index=list(classes.keys()),\n",
    "columns=list(classes.keys()))\n",
    " "
   ]
  },
  {
   "cell_type": "markdown",
   "id": "89a32520-643a-4df7-8672-15051935f0a1",
   "metadata": {},
   "source": [
    "## Load the emission matrix"
   ]
  },
  {
   "cell_type": "code",
   "execution_count": null,
   "id": "565a3ab6-19e6-4f69-be42-58614da1a0e4",
   "metadata": {},
   "outputs": [],
   "source": [
    "emission_matrix_np = np.load(emission_matrix_path_three_classes)"
   ]
  },
  {
   "cell_type": "code",
   "execution_count": null,
   "id": "14f4fae8-9f1f-4437-846f-216da288089e",
   "metadata": {},
   "outputs": [],
   "source": [
    "emission_matrix_np"
   ]
  },
  {
   "cell_type": "code",
   "execution_count": null,
   "id": "846a8954-f1e0-418e-8338-7f10dac37dca",
   "metadata": {},
   "outputs": [],
   "source": []
  },
  {
   "cell_type": "markdown",
   "id": "e868fde1-1475-4db2-868e-857905a49130",
   "metadata": {},
   "source": [
    "## Define the model"
   ]
  },
  {
   "cell_type": "code",
   "execution_count": null,
   "id": "f81c0fad-50d5-469a-ac8b-09a7c8fd3f76",
   "metadata": {},
   "outputs": [],
   "source": [
    "model = hmm.MultinomialHMM(n_components=5, n_iter=n_iter, params=\"st\", init_params=\"st\")"
   ]
  },
  {
   "cell_type": "code",
   "execution_count": null,
   "id": "e0b34843-e248-4d4e-8a87-2e5ed7af08cc",
   "metadata": {},
   "outputs": [],
   "source": [
    "model.emissionprob_ = emission_matrix_np"
   ]
  },
  {
   "cell_type": "markdown",
   "id": "9b709493-207c-4bc0-89ed-47be244bc3f8",
   "metadata": {},
   "source": [
    "## Fit the model"
   ]
  },
  {
   "cell_type": "code",
   "execution_count": null,
   "id": "dbf15e70-c9f7-4d9b-a95e-1435f9e97dc7",
   "metadata": {},
   "outputs": [],
   "source": [
    "model.fit(sequences_array.reshape(-1, 1), lengths)"
   ]
  },
  {
   "cell_type": "markdown",
   "id": "0a0138f3-c6dc-490e-9398-f0f538439db2",
   "metadata": {},
   "source": [
    "## Format the model output"
   ]
  },
  {
   "cell_type": "code",
   "execution_count": null,
   "id": "d21ce39a-3eac-4d50-87ee-e3b59d95016c",
   "metadata": {},
   "outputs": [],
   "source": [
    "classes = {\n",
    "    \"Not_Oriented\": 0, \n",
    "    \"Oriented\": 1, \n",
    "    \"Slanted\": 2, \n",
    "    \"Unidentified\": 3, \n",
    "    \"No_sample\": 4,\n",
    "}\n",
    "transition_table = pd.DataFrame(\n",
    "data=model.transmat_,\n",
    "index=list(classes.keys()),\n",
    "columns=list(classes.keys()))\n"
   ]
  },
  {
   "cell_type": "code",
   "execution_count": null,
   "id": "ce24cd04-19db-4b4c-8f40-88422c8f32f2",
   "metadata": {},
   "outputs": [],
   "source": []
  },
  {
   "cell_type": "markdown",
   "id": "2d9ae222-e260-4830-bc5d-fce05dcce7d4",
   "metadata": {},
   "source": [
    "## Output the transition matrix"
   ]
  },
  {
   "cell_type": "code",
   "execution_count": null,
   "id": "c0bd56df-d3fb-451b-8407-a84f1103d4be",
   "metadata": {},
   "outputs": [],
   "source": [
    "pd.option_context('precision', 3)"
   ]
  },
  {
   "cell_type": "code",
   "execution_count": null,
   "id": "227dc460-08a2-4347-b10f-b85cfab6dbd4",
   "metadata": {},
   "outputs": [],
   "source": [
    "transition_table"
   ]
  },
  {
   "cell_type": "code",
   "execution_count": null,
   "id": "b6e0ee8b-d8ef-4578-82ee-a31ad73d32be",
   "metadata": {},
   "outputs": [],
   "source": []
  }
 ],
 "metadata": {
  "kernelspec": {
   "display_name": "Python 3",
   "language": "python",
   "name": "python3"
  },
  "language_info": {
   "codemirror_mode": {
    "name": "ipython",
    "version": 3
   },
   "file_extension": ".py",
   "mimetype": "text/x-python",
   "name": "python",
   "nbconvert_exporter": "python",
   "pygments_lexer": "ipython3",
   "version": "3.7.10"
  }
 },
 "nbformat": 4,
 "nbformat_minor": 5
}
