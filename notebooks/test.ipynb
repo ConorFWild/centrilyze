{
 "cells": [
  {
   "cell_type": "code",
   "execution_count": 1,
   "id": "1b06a222-3657-4502-bfb0-eb150fd7a8bd",
   "metadata": {},
   "outputs": [],
   "source": [
    "%load_ext autoreload\n",
    "\n",
    "%autoreload 2"
   ]
  },
  {
   "cell_type": "code",
   "execution_count": 2,
   "id": "b8daaada-6cd2-4b05-9b95-5d14fb2d83f4",
   "metadata": {},
   "outputs": [],
   "source": [
    "from pathlib import Path\n",
    "import json\n",
    "import re\n",
    "\n",
    "import torch\n",
    "from torch import Tensor\n",
    "import torch.optim as optim\n",
    "from torch.utils.data import Dataset\n",
    "from torch import nn\n",
    "from torch import functional as F\n",
    "\n",
    "import torchvision\n",
    "import torchvision.transforms as transforms\n",
    "import torchvision.models as models\n",
    "\n",
    "import matplotlib.pyplot as plt\n",
    "import numpy as np\n",
    "import pandas as pd\n",
    "\n",
    "from matplotlib import image as mpl_image\n",
    "from typing import Type, Any, Callable, Union, List, Optional\n",
    "\n",
    "from hmmlearn import hmm\n"
   ]
  },
  {
   "cell_type": "code",
   "execution_count": 3,
   "id": "6be0ee1a-c8ce-481d-95bd-16feb75c3535",
   "metadata": {},
   "outputs": [],
   "source": [
    "from centrilyze import CentrioleImageFiles, ImageDataset, CentrioleImageModel, HMM, constants, image_transform, target_transform, annotate, nest_annotation_keys, get_sequence_matrix, get_transition_count_matrix, get_transition_rate_matrix, get_confusion_matrix, reannotate, save_all_state_figs"
   ]
  },
  {
   "cell_type": "markdown",
   "id": "5103ac8e-bdb3-4869-87cf-7078993b83a1",
   "metadata": {
    "tags": []
   },
   "source": [
    "# Settings"
   ]
  },
  {
   "cell_type": "code",
   "execution_count": 4,
   "id": "1e3ac5d8-a256-49e6-b118-ce8e25d9ad50",
   "metadata": {},
   "outputs": [],
   "source": [
    "test_folder = Path(\"/nic/data/high_low/train\")\n",
    "model_file = Path(\"/nic/models/model_resnet_18_high_low_affine_149.pyt\")\n",
    "annotations_file = Path(\"/nic/annotations.json\")\n",
    "sequences_file = Path(\"/nic/sequences.npy\")\n",
    "emission_matrix_path = Path(\"/nic/emission_matrix.npy\")\n",
    "emission_matrix_path_three_classes = Path(\"/nic/emission_matrix_three_classes.npy\")\n",
    "output_dir = Path(\"/nic/output\")\n",
    "\n",
    "n_iter=1000\n",
    "batch_size = 4"
   ]
  },
  {
   "cell_type": "markdown",
   "id": "c8d87fc1-545b-4c0f-a0e3-1ce413bba2eb",
   "metadata": {
    "tags": []
   },
   "source": [
    "# Data Loading"
   ]
  },
  {
   "cell_type": "code",
   "execution_count": 5,
   "id": "fb9726c2-d85d-42df-84af-5a53da4e842e",
   "metadata": {
    "tags": []
   },
   "outputs": [],
   "source": [
    "centriole_image_files = CentrioleImageFiles.from_unannotated_images(test_folder)"
   ]
  },
  {
   "cell_type": "code",
   "execution_count": 6,
   "id": "e8ada249-f111-4dde-8dbe-858ae2a3c679",
   "metadata": {},
   "outputs": [],
   "source": [
    "# centriole_image_files.images"
   ]
  },
  {
   "cell_type": "code",
   "execution_count": null,
   "id": "c0a36b14-43a3-476c-aeb6-4c91b5915352",
   "metadata": {},
   "outputs": [],
   "source": [
    "testset = ImageDataset.from_centriole_image_files(\n",
    "    centriole_image_files, \n",
    "    image_transform, \n",
    "    target_transform,\n",
    ")"
   ]
  },
  {
   "cell_type": "code",
   "execution_count": null,
   "id": "cb98a1b8-ef42-4124-b07b-226a91334a8d",
   "metadata": {},
   "outputs": [],
   "source": [
    "testloader = torch.utils.data.DataLoader(testset, batch_size=batch_size,\n",
    "                                         shuffle=False, \n",
    "                                         drop_last=False\n",
    "                                        )"
   ]
  },
  {
   "cell_type": "markdown",
   "id": "0e9efed9-3968-45d8-809d-5f8638c21515",
   "metadata": {
    "tags": []
   },
   "source": [
    "# Define the model"
   ]
  },
  {
   "cell_type": "code",
   "execution_count": null,
   "id": "fb5bad73-9fcd-435b-b8b2-f8b249657472",
   "metadata": {},
   "outputs": [],
   "source": [
    "model = CentrioleImageModel()"
   ]
  },
  {
   "cell_type": "markdown",
   "id": "a4d387ce-8a63-48cf-8b39-773e900728b7",
   "metadata": {
    "tags": []
   },
   "source": [
    "# Load the trained model params"
   ]
  },
  {
   "cell_type": "code",
   "execution_count": null,
   "id": "68f5f79f-229d-4ccb-ab5c-f5e30e5f453e",
   "metadata": {},
   "outputs": [],
   "source": [
    "image_model = CentrioleImageModel()\n"
   ]
  },
  {
   "cell_type": "code",
   "execution_count": null,
   "id": "9c0ee422-7638-4e9c-b0ab-def63fe4a645",
   "metadata": {},
   "outputs": [],
   "source": [
    "image_model.load_state_dict(model_file, map_location=torch.device(\"cpu\"))\n"
   ]
  },
  {
   "cell_type": "markdown",
   "id": "e61258e3-cbc0-4431-9d79-ddee8d0e1f05",
   "metadata": {
    "tags": []
   },
   "source": [
    "# Annotate the data with the model"
   ]
  },
  {
   "cell_type": "code",
   "execution_count": null,
   "id": "04b26792-eee7-4d47-9076-9d64a7a2bdfe",
   "metadata": {},
   "outputs": [],
   "source": [
    "annotations = annotate(image_model, testloader)"
   ]
  },
  {
   "cell_type": "code",
   "execution_count": null,
   "id": "156d8e2b-48ee-4b47-a1e6-e7f3cf919c9d",
   "metadata": {},
   "outputs": [],
   "source": [
    "nested_annotations = nest_annotation_keys(annotations)"
   ]
  },
  {
   "cell_type": "markdown",
   "id": "935b0a00-b530-4a14-b3f4-2ae7aca6c98e",
   "metadata": {
    "jp-MarkdownHeadingCollapsed": true,
    "tags": []
   },
   "source": [
    "# Output the confusion matrix"
   ]
  },
  {
   "cell_type": "code",
   "execution_count": null,
   "id": "21de974a-385d-4016-b15a-ddd01209a084",
   "metadata": {},
   "outputs": [],
   "source": [
    "confusion_matrix_test_table = get_confusion_matrix(annotations)"
   ]
  },
  {
   "cell_type": "code",
   "execution_count": null,
   "id": "c583afd6-f41e-4697-a1b5-85da0a3eeae2",
   "metadata": {},
   "outputs": [],
   "source": [
    "confusion_matrix_test_table"
   ]
  },
  {
   "cell_type": "markdown",
   "id": "3c6070b8-532b-4c4a-996e-b0f8f01ba43a",
   "metadata": {
    "jp-MarkdownHeadingCollapsed": true,
    "tags": []
   },
   "source": [
    "# Get the Sequences"
   ]
  },
  {
   "cell_type": "code",
   "execution_count": null,
   "id": "831f6115-b9ef-4738-b7bc-b13a084fdf8e",
   "metadata": {},
   "outputs": [],
   "source": [
    "sequence_matrix = get_sequence_matrix(nested_annotations, list(range(20)), 7)"
   ]
  },
  {
   "cell_type": "code",
   "execution_count": null,
   "id": "11bdfde2-e1df-4bfa-a6f9-cbe3c5fea775",
   "metadata": {},
   "outputs": [],
   "source": [
    "sequence_matrix.shape"
   ]
  },
  {
   "cell_type": "markdown",
   "id": "6af4a493-9762-4f49-808d-4531348171e8",
   "metadata": {
    "jp-MarkdownHeadingCollapsed": true,
    "tags": []
   },
   "source": [
    "# All classes: Get the naive transition counts and rates"
   ]
  },
  {
   "cell_type": "code",
   "execution_count": null,
   "id": "58435ac4-14f4-4a45-a494-9c3de3999c51",
   "metadata": {},
   "outputs": [],
   "source": [
    "transition_count_matrix = get_transition_count_matrix(sequence_matrix, 7)"
   ]
  },
  {
   "cell_type": "code",
   "execution_count": null,
   "id": "d3111278-cce1-4055-8029-74f738bfc040",
   "metadata": {},
   "outputs": [],
   "source": [
    "np.set_printoptions(precision=3, suppress=True)\n"
   ]
  },
  {
   "cell_type": "code",
   "execution_count": null,
   "id": "6cafeab3-ba6b-4542-8afc-787e38468027",
   "metadata": {},
   "outputs": [],
   "source": [
    "naive_transition_table = pd.DataFrame(\n",
    "data=transition_count_matrix,\n",
    "index=list(constants.classes.keys()),\n",
    "columns=list(constants.classes.keys()))\n",
    "naive_transition_table"
   ]
  },
  {
   "cell_type": "code",
   "execution_count": null,
   "id": "7d07aa5e-408d-4203-bc97-5d0b6b8ca515",
   "metadata": {},
   "outputs": [],
   "source": [
    "transition_rate_matrix = get_transition_rate_matrix(transition_count_matrix)"
   ]
  },
  {
   "cell_type": "code",
   "execution_count": null,
   "id": "d9cca006-3f14-4972-a29a-180478e97036",
   "metadata": {},
   "outputs": [],
   "source": [
    "classes = {\n",
    "    \"Not_Oriented\": 0, \n",
    "    \"Oriented\": 1, \n",
    "    \"Precieved_Not_Oriented\": 2, \n",
    "    \"Precieved_Oriented\": 3, \n",
    "    \"Slanted\": 4, \n",
    "    \"Unidentified\": 5, \n",
    "    \"No_sample\": 6,\n",
    "}\n",
    "\n",
    "naive_transition_table = pd.DataFrame(\n",
    "data=transition_rate_matrix,\n",
    "index=list(classes.keys()),\n",
    "columns=list(classes.keys()))\n",
    "naive_transition_table"
   ]
  },
  {
   "cell_type": "markdown",
   "id": "fb744c1a-5c80-485b-84c6-875b14c5d65a",
   "metadata": {
    "jp-MarkdownHeadingCollapsed": true,
    "tags": []
   },
   "source": [
    "# Three classes: Get the counts and transition rates"
   ]
  },
  {
   "cell_type": "code",
   "execution_count": null,
   "id": "88df6d45-a875-4769-bf22-412854bbdbbb",
   "metadata": {},
   "outputs": [],
   "source": [
    "reannotations = reannotate(nested_annotations, constants.annotation_mapping)"
   ]
  },
  {
   "cell_type": "code",
   "execution_count": null,
   "id": "d6219736-ab70-4df8-ae59-89ce54379547",
   "metadata": {},
   "outputs": [],
   "source": [
    "sequence_3_classes_matrix = get_sequence_matrix(reannotations, list(range(20)), 5)"
   ]
  },
  {
   "cell_type": "code",
   "execution_count": null,
   "id": "7faae4e4-c8dd-4132-93b5-8fdb3b085b22",
   "metadata": {},
   "outputs": [],
   "source": [
    "sequence_3_classes_matrix"
   ]
  },
  {
   "cell_type": "code",
   "execution_count": null,
   "id": "02aaf702-e1fc-4d4a-8621-17db55091eca",
   "metadata": {},
   "outputs": [],
   "source": [
    "transition_3_classes_count_matrix = get_transition_count_matrix(sequence_3_classes_matrix, 5)"
   ]
  },
  {
   "cell_type": "code",
   "execution_count": null,
   "id": "d3093a85-8fc3-442e-9430-b3f988a9ba88",
   "metadata": {},
   "outputs": [],
   "source": [
    "naive_transition_3_classes_table = pd.DataFrame(\n",
    "data=transition_3_classes_count_matrix,\n",
    "index=list(constants.classes_reduced.keys()),\n",
    "columns=list(constants.classes_reduced.keys()))\n",
    "naive_transition_3_classes_table"
   ]
  },
  {
   "cell_type": "code",
   "execution_count": null,
   "id": "7219d1af-2ac2-45c2-9332-f9f9c5be76c8",
   "metadata": {},
   "outputs": [],
   "source": [
    "transition_3_classes_rate_matrix = get_transition_rate_matrix(transition_3_classes_count_matrix)"
   ]
  },
  {
   "cell_type": "code",
   "execution_count": null,
   "id": "3904d4b2-f3af-4368-9c58-931d0c7e371c",
   "metadata": {},
   "outputs": [],
   "source": [
    "\n",
    "naive_transition_table = pd.DataFrame(\n",
    "data=transition_3_classes_rate_matrix,\n",
    "index=list(constants.classes_reduced.keys()),\n",
    "columns=list(constants.classes_reduced.keys()))\n",
    "naive_transition_table"
   ]
  },
  {
   "cell_type": "markdown",
   "id": "e2a46af7-b116-42c0-864a-2f3e69758bf7",
   "metadata": {
    "jp-MarkdownHeadingCollapsed": true,
    "tags": []
   },
   "source": [
    "# Hidden Markov model"
   ]
  },
  {
   "cell_type": "markdown",
   "id": "022c1832-391c-4501-8609-b2ba80cfaa38",
   "metadata": {},
   "source": [
    "## Load the emission matrix"
   ]
  },
  {
   "cell_type": "code",
   "execution_count": null,
   "id": "4f666150-c353-45ae-b250-f8ffaa5873be",
   "metadata": {},
   "outputs": [],
   "source": [
    "emission_matrix_np = np.load(emission_matrix_path)"
   ]
  },
  {
   "cell_type": "markdown",
   "id": "1db9e945-d003-4271-9a9b-bd75055bb9ca",
   "metadata": {},
   "source": [
    "## Define the model"
   ]
  },
  {
   "cell_type": "code",
   "execution_count": null,
   "id": "b9ce28ac-3e10-4fd1-a477-a0d021549622",
   "metadata": {},
   "outputs": [],
   "source": [
    "model = hmm.MultinomialHMM(n_components=7, n_iter=n_iter, params=\"st\", init_params=\"st\")"
   ]
  },
  {
   "cell_type": "code",
   "execution_count": null,
   "id": "56703c06-49e6-4e61-9575-ca3d8efe8f04",
   "metadata": {},
   "outputs": [],
   "source": [
    "model.emissionprob_ = emission_matrix_np"
   ]
  },
  {
   "cell_type": "markdown",
   "id": "5bd05759-99fa-4230-9956-6887140d6e42",
   "metadata": {},
   "source": [
    "## Fit the model"
   ]
  },
  {
   "cell_type": "code",
   "execution_count": null,
   "id": "53599006-f002-4b19-8b4f-66e42b11ede0",
   "metadata": {},
   "outputs": [],
   "source": [
    "model.fit(sequence_matrix.reshape(-1, 1), [sequence_matrix.shape[1]]*sequence_matrix.shape[0])"
   ]
  },
  {
   "cell_type": "markdown",
   "id": "dca8959e-d367-4856-85d9-25123a5b1054",
   "metadata": {},
   "source": [
    "## Format the model output"
   ]
  },
  {
   "cell_type": "code",
   "execution_count": null,
   "id": "fd6cff48-a924-4219-ae93-483321dff465",
   "metadata": {},
   "outputs": [],
   "source": [
    "\n",
    "transition_table = pd.DataFrame(\n",
    "data=model.transmat_,\n",
    "index=list(constants.classes.keys()),\n",
    "columns=list(constants.classes.keys()))\n"
   ]
  },
  {
   "cell_type": "code",
   "execution_count": null,
   "id": "3bf6b954-ccff-4b25-8a82-34960d0a11ce",
   "metadata": {},
   "outputs": [],
   "source": [
    "transition_table"
   ]
  },
  {
   "cell_type": "markdown",
   "id": "e2939008-50cd-472c-9b6a-011e99e684eb",
   "metadata": {
    "jp-MarkdownHeadingCollapsed": true,
    "tags": []
   },
   "source": [
    "# Hidden Markov model: Three Classes"
   ]
  },
  {
   "cell_type": "markdown",
   "id": "89a32520-643a-4df7-8672-15051935f0a1",
   "metadata": {},
   "source": [
    "## Load the emission matrix"
   ]
  },
  {
   "cell_type": "code",
   "execution_count": null,
   "id": "565a3ab6-19e6-4f69-be42-58614da1a0e4",
   "metadata": {},
   "outputs": [],
   "source": [
    "emission_matrix_np = np.load(emission_matrix_path_three_classes)"
   ]
  },
  {
   "cell_type": "markdown",
   "id": "e868fde1-1475-4db2-868e-857905a49130",
   "metadata": {
    "tags": []
   },
   "source": [
    "## Define the model"
   ]
  },
  {
   "cell_type": "code",
   "execution_count": null,
   "id": "f81c0fad-50d5-469a-ac8b-09a7c8fd3f76",
   "metadata": {},
   "outputs": [],
   "source": [
    "model = hmm.MultinomialHMM(n_components=5, n_iter=n_iter, params=\"st\", init_params=\"st\")"
   ]
  },
  {
   "cell_type": "code",
   "execution_count": null,
   "id": "e0b34843-e248-4d4e-8a87-2e5ed7af08cc",
   "metadata": {},
   "outputs": [],
   "source": [
    "model.emissionprob_ = emission_matrix_np"
   ]
  },
  {
   "cell_type": "markdown",
   "id": "9b709493-207c-4bc0-89ed-47be244bc3f8",
   "metadata": {},
   "source": [
    "## Fit the model"
   ]
  },
  {
   "cell_type": "code",
   "execution_count": null,
   "id": "dbf15e70-c9f7-4d9b-a95e-1435f9e97dc7",
   "metadata": {},
   "outputs": [],
   "source": [
    "model.fit(sequence_3_classes_matrix.reshape(-1, 1), [sequence_3_classes_matrix.shape[1]]*sequence_3_classes_matrix.shape[0])"
   ]
  },
  {
   "cell_type": "markdown",
   "id": "0a0138f3-c6dc-490e-9398-f0f538439db2",
   "metadata": {},
   "source": [
    "## Format the model output"
   ]
  },
  {
   "cell_type": "code",
   "execution_count": null,
   "id": "d21ce39a-3eac-4d50-87ee-e3b59d95016c",
   "metadata": {},
   "outputs": [],
   "source": [
    "\n",
    "transition_table = pd.DataFrame(\n",
    "data=model.transmat_,\n",
    "index=list(constants.classes_reduced.keys()),\n",
    "columns=list(constants.classes_reduced.keys()))\n"
   ]
  },
  {
   "cell_type": "code",
   "execution_count": null,
   "id": "ce24cd04-19db-4b4c-8f40-88422c8f32f2",
   "metadata": {},
   "outputs": [],
   "source": [
    "transition_table"
   ]
  },
  {
   "cell_type": "markdown",
   "id": "88e94961-ebf6-4aad-9824-b133abe0c7b3",
   "metadata": {},
   "source": [
    "# Changing sequences"
   ]
  },
  {
   "cell_type": "code",
   "execution_count": null,
   "id": "77536600-fd57-4b37-bec6-e0891bf34aa0",
   "metadata": {},
   "outputs": [],
   "source": [
    "states = {}\n",
    "for experiment, particles in reannotations.items():\n",
    "    for particle, frames in particles.items():\n",
    "        frame_list = []\n",
    "        for frame, annotation in frames.items():\n",
    "            frame_list.append(annotation[\"assigned\"])\n",
    "            frame_array = np.array(frame_list)\n",
    "        # print(frame_array)\n",
    "        # print(tuple(np.unique(frame_array)))\n",
    "        if tuple(np.unique(frame_array)) not in states:\n",
    "            states[tuple(np.unique(frame_array))] = set()\n",
    "        states[tuple(np.unique(frame_array))] = states[tuple(np.unique(frame_array))].union(((experiment, particle),))"
   ]
  },
  {
   "cell_type": "code",
   "execution_count": null,
   "id": "dc6af0f2-71da-4778-8dd6-b0218bfe0908",
   "metadata": {},
   "outputs": [],
   "source": [
    "save_all_state_figs(states, testset, output_dir, reannotations,)\n"
   ]
  },
  {
   "cell_type": "code",
   "execution_count": null,
   "id": "459bf4ec-4904-4ce9-bc1f-a38c04e0c153",
   "metadata": {},
   "outputs": [],
   "source": [
    "reannotations.keys()"
   ]
  },
  {
   "cell_type": "code",
   "execution_count": null,
   "id": "c6113677-1b6f-4199-8794-496883af58ee",
   "metadata": {},
   "outputs": [],
   "source": [
    "annotations_by_frame = {}\n",
    "for experiment, particles in reannotations.items():\n",
    "    annotations_by_frame[experiment] = {}\n",
    "    \n",
    "    for j in range(20):\n",
    "        annotations_by_frame[experiment][j] = {}\n",
    "    \n",
    "    for particle, frames in particles.items():\n",
    "            for frame_number, frame in frames.items():\n",
    "                annotations_by_frame[experiment][frame_number][particle] = frame"
   ]
  },
  {
   "cell_type": "code",
   "execution_count": null,
   "id": "529c47b4-42f0-4368-9f7c-5545553f15c1",
   "metadata": {},
   "outputs": [],
   "source": [
    "frames[19]"
   ]
  },
  {
   "cell_type": "code",
   "execution_count": null,
   "id": "de7a0e01-6c88-41e0-bcff-723657f03cf6",
   "metadata": {},
   "outputs": [],
   "source": [
    "for experiment, frames in annotations_by_frame.items():\n",
    "    print(experiment)\n",
    "    for frame, particles in frames.items():\n",
    "        print(f\"\\tFrame: {frame}\")\n",
    "        num_oriented = len([annotation for annotation in particles.values() if annotation['assigned'] == 1])\n",
    "        \n",
    "        num_unoriented = len([annotation for annotation in particles.values() if annotation['assigned'] == 0])\n",
    "        \n",
    "        num_slanted = len([annotation for annotation in particles.values() if annotation['assigned'] == 2])\n",
    "        \n",
    "        num_unidentified = len([annotation for annotation in particles.values() if annotation['assigned'] == 3])\n",
    "        \n",
    "        num_particles = num_slanted + num_unoriented+num_oriented+num_unidentified\n",
    "        print(f\"\\t\\tTotal: {num_particles}\")\n",
    "        print(f\"\\t\\t\\tOriented: {num_oriented}\")\n",
    "        print(f\"\\t\\t\\tUnoriented: {num_unoriented}\")\n",
    "        print(f\"\\t\\t\\tSlanted: {num_slanted}\")\n",
    "        print(f\"\\t\\t\\tUnidentified: {num_unidentified}\")\n",
    "\n",
    "        "
   ]
  },
  {
   "cell_type": "code",
   "execution_count": null,
   "id": "c80fb180-47bc-4ade-bd06-61987cc893b2",
   "metadata": {},
   "outputs": [],
   "source": []
  },
  {
   "cell_type": "code",
   "execution_count": null,
   "id": "ffe362be-a11e-4c70-b8b0-06be5b03f364",
   "metadata": {},
   "outputs": [],
   "source": [
    "fig, axs = plt.subplots(nrows=len(annotations_by_frame), figsize=(25, 5*len(annotations_by_frame)))\n",
    "\n",
    "j = 0\n",
    "for experiment, frames in annotations_by_frame.items():\n",
    "    num_orienteds = []\n",
    "    num_unorienteds = []\n",
    "    num_slanteds = []\n",
    "    num_unidentifieds = []\n",
    "    num_missings = []\n",
    "    for frame, particles in frames.items():\n",
    "\n",
    "        num_oriented = len([annotation for annotation in particles.values() if annotation['assigned'] == 1])\n",
    "        num_unoriented = len([annotation for annotation in particles.values() if annotation['assigned'] == 0])\n",
    "        num_slanted = len([annotation for annotation in particles.values() if annotation['assigned'] == 2])\n",
    "        num_unidentified = len([annotation for annotation in particles.values() if annotation['assigned'] == 3])\n",
    "        num_missing = len([annotation for annotation in particles.values() if annotation['assigned'] == 4])\n",
    "\n",
    "        total = num_oriented + num_unoriented + num_slanted + num_unidentified + num_missing\n",
    "        \n",
    "        num_orienteds.append(num_oriented/total)\n",
    "        num_unorienteds.append(num_unoriented/total)\n",
    "        num_slanteds.append(num_slanted/total)\n",
    "        num_unidentifieds.append(num_unidentified/total)\n",
    "        num_missings.append(num_missing/total)\n",
    "\n",
    "        \n",
    "\n",
    "\n",
    "    axs[j].set_title(f\"Experiment: {experiment}\")\n",
    "    # for key, frame in particle_data.items():\n",
    "    axs[j].plot(num_orienteds, label=\"Oriented\")\n",
    "    axs[j].plot(num_unorienteds, label=\"Unoriented\")\n",
    "    axs[j].plot(num_slanteds, label=\"slanted\")\n",
    "    axs[j].plot(num_unidentifieds, label=\"Unidentified\")\n",
    "    axs[j].plot(num_missings, label=\"Missing\")\n",
    "    axs[j].set_xlabel(\"\")\n",
    "    axs[j].legend()\n",
    "    \n",
    "    j = j+1"
   ]
  },
  {
   "cell_type": "code",
   "execution_count": null,
   "id": "da88788b-d0c3-4cae-8581-e052412e7201",
   "metadata": {},
   "outputs": [],
   "source": [
    "fig, axs = plt.subplots(nrows=len(annotations_by_frame), figsize=(25, 5*len(annotations_by_frame)))\n",
    "\n",
    "j = 0\n",
    "for experiment, frames in annotations_by_frame.items():\n",
    "    num_orienteds = []\n",
    "    num_unorienteds = []\n",
    "    num_slanteds = []\n",
    "    num_unidentifieds = []\n",
    "    num_missings = []\n",
    "    num_fractions = []\n",
    "    for frame, particles in frames.items():\n",
    "\n",
    "        num_oriented = len([annotation for annotation in particles.values() if annotation['assigned'] == 1])\n",
    "        num_unoriented = len([annotation for annotation in particles.values() if annotation['assigned'] == 0])\n",
    "        num_slanted = len([annotation for annotation in particles.values() if annotation['assigned'] == 2])\n",
    "        num_unidentified = len([annotation for annotation in particles.values() if annotation['assigned'] == 3])\n",
    "        num_missing = len([annotation for annotation in particles.values() if annotation['assigned'] == 4])\n",
    "\n",
    "        total = num_oriented + num_unoriented + num_slanted + num_unidentified + num_missing\n",
    "        \n",
    "        num_orienteds.append(num_oriented/total)\n",
    "        num_unorienteds.append(num_unoriented/total)\n",
    "        num_slanteds.append(num_slanted/total)\n",
    "        num_unidentifieds.append(num_unidentified/total)\n",
    "        num_missings.append(num_missing/total)\n",
    "\n",
    "        num_fractions.append(num_oriented / num_unoriented)\n",
    "\n",
    "\n",
    "    axs[j].set_title(f\"Experiment: {experiment}\")\n",
    "    # for key, frame in particle_data.items():\n",
    "    axs[j].plot(num_fractions, label=\"Oriented/unoriented\")\n",
    "    # axs[j].plot(num_unorienteds, label=\"Unoriented\")\n",
    "    # axs[j].plot(num_slanteds, label=\"slanted\")\n",
    "    # axs[j].plot(num_unidentifieds, label=\"Unidentified\")\n",
    "    # axs[j].plot(num_missings, label=\"Missing\")\n",
    "    axs[j].set_xlabel(\"Frame\")\n",
    "    axs[j].legend()\n",
    "    \n",
    "    j = j+1"
   ]
  },
  {
   "cell_type": "code",
   "execution_count": null,
   "id": "1567e6dc-8d58-45a8-b2a4-ab4a75af311d",
   "metadata": {},
   "outputs": [],
   "source": []
  }
 ],
 "metadata": {
  "kernelspec": {
   "display_name": "Python 3",
   "language": "python",
   "name": "python3"
  },
  "language_info": {
   "codemirror_mode": {
    "name": "ipython",
    "version": 3
   },
   "file_extension": ".py",
   "mimetype": "text/x-python",
   "name": "python",
   "nbconvert_exporter": "python",
   "pygments_lexer": "ipython3",
   "version": "3.7.10"
  }
 },
 "nbformat": 4,
 "nbformat_minor": 5
}
