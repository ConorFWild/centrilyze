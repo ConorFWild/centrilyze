{
 "cells": [
  {
   "cell_type": "code",
   "execution_count": 1,
   "id": "1b06a222-3657-4502-bfb0-eb150fd7a8bd",
   "metadata": {},
   "outputs": [],
   "source": [
    "%load_ext autoreload\n",
    "\n",
    "%autoreload 2"
   ]
  },
  {
   "cell_type": "code",
   "execution_count": 2,
   "id": "b8daaada-6cd2-4b05-9b95-5d14fb2d83f4",
   "metadata": {},
   "outputs": [],
   "source": [
    "from pathlib import Path\n",
    "import json\n",
    "import re\n",
    "\n",
    "import torch\n",
    "from torch import Tensor\n",
    "import torch.optim as optim\n",
    "from torch.utils.data import Dataset\n",
    "from torch import nn\n",
    "from torch import functional as F\n",
    "\n",
    "import torchvision\n",
    "import torchvision.transforms as transforms\n",
    "import torchvision.models as models\n",
    "\n",
    "import matplotlib.pyplot as plt\n",
    "import numpy as np\n",
    "import pandas as pd\n",
    "\n",
    "from matplotlib import image as mpl_image\n",
    "from typing import Type, Any, Callable, Union, List, Optional\n",
    "\n",
    "from hmmlearn import hmm\n"
   ]
  },
  {
   "cell_type": "code",
   "execution_count": 72,
   "id": "6be0ee1a-c8ce-481d-95bd-16feb75c3535",
   "metadata": {},
   "outputs": [],
   "source": [
    "from centrilyze import CentrioleImageFiles, ImageDataset, CentrioleImageModel, HMM, constants, image_transform, target_transform, annotate, nest_annotation_keys, get_sequence_matrix, get_transition_count_matrix, get_transition_rate_matrix, get_confusion_matrix, reannotate, save_all_state_figs"
   ]
  },
  {
   "cell_type": "markdown",
   "id": "5103ac8e-bdb3-4869-87cf-7078993b83a1",
   "metadata": {
    "tags": []
   },
   "source": [
    "# Settings"
   ]
  },
  {
   "cell_type": "code",
   "execution_count": 73,
   "id": "1e3ac5d8-a256-49e6-b118-ce8e25d9ad50",
   "metadata": {},
   "outputs": [],
   "source": [
    "test_folder = Path(\"/nic/data/high_low/train\")\n",
    "model_file = Path(\"/nic/models/model_resnet_18_high_low_affine_149.pyt\")\n",
    "annotations_file = Path(\"/nic/annotations.json\")\n",
    "sequences_file = Path(\"/nic/sequences.npy\")\n",
    "emission_matrix_path = Path(\"/nic/emission_matrix.npy\")\n",
    "emission_matrix_path_three_classes = Path(\"/nic/emission_matrix_three_classes.npy\")\n",
    "output_dir = Path(\"/nic/output\")\n",
    "\n",
    "n_iter=1000\n",
    "batch_size = 4"
   ]
  },
  {
   "cell_type": "markdown",
   "id": "c8d87fc1-545b-4c0f-a0e3-1ce413bba2eb",
   "metadata": {
    "tags": []
   },
   "source": [
    "# Data Loading"
   ]
  },
  {
   "cell_type": "code",
   "execution_count": 5,
   "id": "fb9726c2-d85d-42df-84af-5a53da4e842e",
   "metadata": {
    "tags": []
   },
   "outputs": [],
   "source": [
    "centriole_image_files = CentrioleImageFiles.from_unannotated_images(test_folder)"
   ]
  },
  {
   "cell_type": "code",
   "execution_count": 6,
   "id": "e8ada249-f111-4dde-8dbe-858ae2a3c679",
   "metadata": {},
   "outputs": [],
   "source": [
    "# centriole_image_files.images"
   ]
  },
  {
   "cell_type": "code",
   "execution_count": 7,
   "id": "c0a36b14-43a3-476c-aeb6-4c91b5915352",
   "metadata": {},
   "outputs": [],
   "source": [
    "testset = ImageDataset.from_centriole_image_files(\n",
    "    centriole_image_files, \n",
    "    image_transform, \n",
    "    target_transform,\n",
    ")"
   ]
  },
  {
   "cell_type": "code",
   "execution_count": 8,
   "id": "cb98a1b8-ef42-4124-b07b-226a91334a8d",
   "metadata": {},
   "outputs": [],
   "source": [
    "testloader = torch.utils.data.DataLoader(testset, batch_size=batch_size,\n",
    "                                         shuffle=False, \n",
    "                                         drop_last=True\n",
    "                                        )"
   ]
  },
  {
   "cell_type": "markdown",
   "id": "0e9efed9-3968-45d8-809d-5f8638c21515",
   "metadata": {
    "jp-MarkdownHeadingCollapsed": true,
    "tags": []
   },
   "source": [
    "# Define the model"
   ]
  },
  {
   "cell_type": "code",
   "execution_count": 9,
   "id": "fb5bad73-9fcd-435b-b8b2-f8b249657472",
   "metadata": {},
   "outputs": [],
   "source": [
    "model = CentrioleImageModel()"
   ]
  },
  {
   "cell_type": "markdown",
   "id": "a4d387ce-8a63-48cf-8b39-773e900728b7",
   "metadata": {
    "jp-MarkdownHeadingCollapsed": true,
    "tags": []
   },
   "source": [
    "# Load the trained model params"
   ]
  },
  {
   "cell_type": "code",
   "execution_count": 10,
   "id": "68f5f79f-229d-4ccb-ab5c-f5e30e5f453e",
   "metadata": {},
   "outputs": [],
   "source": [
    "image_model = CentrioleImageModel()\n"
   ]
  },
  {
   "cell_type": "code",
   "execution_count": 11,
   "id": "9c0ee422-7638-4e9c-b0ab-def63fe4a645",
   "metadata": {},
   "outputs": [],
   "source": [
    "image_model.load_state_dict(model_file, map_location=torch.device(\"cpu\"))\n"
   ]
  },
  {
   "cell_type": "markdown",
   "id": "e61258e3-cbc0-4431-9d79-ddee8d0e1f05",
   "metadata": {
    "jp-MarkdownHeadingCollapsed": true,
    "tags": []
   },
   "source": [
    "# Annotate the data with the model"
   ]
  },
  {
   "cell_type": "code",
   "execution_count": 12,
   "id": "04b26792-eee7-4d47-9076-9d64a7a2bdfe",
   "metadata": {},
   "outputs": [],
   "source": [
    "annotations = annotate(image_model, testloader)"
   ]
  },
  {
   "cell_type": "code",
   "execution_count": 13,
   "id": "156d8e2b-48ee-4b47-a1e6-e7f3cf919c9d",
   "metadata": {},
   "outputs": [],
   "source": [
    "nested_annotations = nest_annotation_keys(annotations)"
   ]
  },
  {
   "cell_type": "markdown",
   "id": "935b0a00-b530-4a14-b3f4-2ae7aca6c98e",
   "metadata": {
    "jp-MarkdownHeadingCollapsed": true,
    "tags": []
   },
   "source": [
    "# Output the confusion matrix"
   ]
  },
  {
   "cell_type": "code",
   "execution_count": 14,
   "id": "21de974a-385d-4016-b15a-ddd01209a084",
   "metadata": {},
   "outputs": [],
   "source": [
    "confusion_matrix_test_table = get_confusion_matrix(annotations)"
   ]
  },
  {
   "cell_type": "code",
   "execution_count": 15,
   "id": "c583afd6-f41e-4697-a1b5-85da0a3eeae2",
   "metadata": {},
   "outputs": [
    {
     "data": {
      "text/html": [
       "<div>\n",
       "<style scoped>\n",
       "    .dataframe tbody tr th:only-of-type {\n",
       "        vertical-align: middle;\n",
       "    }\n",
       "\n",
       "    .dataframe tbody tr th {\n",
       "        vertical-align: top;\n",
       "    }\n",
       "\n",
       "    .dataframe thead th {\n",
       "        text-align: right;\n",
       "    }\n",
       "</style>\n",
       "<table border=\"1\" class=\"dataframe\">\n",
       "  <thead>\n",
       "    <tr style=\"text-align: right;\">\n",
       "      <th></th>\n",
       "      <th>Not_Oriented</th>\n",
       "      <th>Oriented</th>\n",
       "      <th>Precieved_Not_Oriented</th>\n",
       "      <th>Precieved_Oriented</th>\n",
       "      <th>Slanted</th>\n",
       "      <th>Unidentified</th>\n",
       "      <th>No_sample</th>\n",
       "    </tr>\n",
       "  </thead>\n",
       "  <tbody>\n",
       "    <tr>\n",
       "      <th>Not_Oriented</th>\n",
       "      <td>0.0</td>\n",
       "      <td>0.0</td>\n",
       "      <td>0.0</td>\n",
       "      <td>0.0</td>\n",
       "      <td>0.0</td>\n",
       "      <td>0.0</td>\n",
       "      <td>0.0</td>\n",
       "    </tr>\n",
       "    <tr>\n",
       "      <th>Oriented</th>\n",
       "      <td>0.0</td>\n",
       "      <td>0.0</td>\n",
       "      <td>0.0</td>\n",
       "      <td>0.0</td>\n",
       "      <td>0.0</td>\n",
       "      <td>0.0</td>\n",
       "      <td>0.0</td>\n",
       "    </tr>\n",
       "    <tr>\n",
       "      <th>Precieved_Not_Oriented</th>\n",
       "      <td>0.0</td>\n",
       "      <td>0.0</td>\n",
       "      <td>0.0</td>\n",
       "      <td>0.0</td>\n",
       "      <td>0.0</td>\n",
       "      <td>0.0</td>\n",
       "      <td>0.0</td>\n",
       "    </tr>\n",
       "    <tr>\n",
       "      <th>Precieved_Oriented</th>\n",
       "      <td>0.0</td>\n",
       "      <td>0.0</td>\n",
       "      <td>0.0</td>\n",
       "      <td>0.0</td>\n",
       "      <td>0.0</td>\n",
       "      <td>0.0</td>\n",
       "      <td>0.0</td>\n",
       "    </tr>\n",
       "    <tr>\n",
       "      <th>Slanted</th>\n",
       "      <td>0.0</td>\n",
       "      <td>0.0</td>\n",
       "      <td>0.0</td>\n",
       "      <td>0.0</td>\n",
       "      <td>0.0</td>\n",
       "      <td>0.0</td>\n",
       "      <td>0.0</td>\n",
       "    </tr>\n",
       "    <tr>\n",
       "      <th>Unidentified</th>\n",
       "      <td>2483.0</td>\n",
       "      <td>4297.0</td>\n",
       "      <td>5607.0</td>\n",
       "      <td>6985.0</td>\n",
       "      <td>5572.0</td>\n",
       "      <td>172.0</td>\n",
       "      <td>0.0</td>\n",
       "    </tr>\n",
       "    <tr>\n",
       "      <th>No_sample</th>\n",
       "      <td>0.0</td>\n",
       "      <td>0.0</td>\n",
       "      <td>0.0</td>\n",
       "      <td>0.0</td>\n",
       "      <td>0.0</td>\n",
       "      <td>0.0</td>\n",
       "      <td>0.0</td>\n",
       "    </tr>\n",
       "  </tbody>\n",
       "</table>\n",
       "</div>"
      ],
      "text/plain": [
       "                        Not_Oriented  Oriented  Precieved_Not_Oriented  \\\n",
       "Not_Oriented                     0.0       0.0                     0.0   \n",
       "Oriented                         0.0       0.0                     0.0   \n",
       "Precieved_Not_Oriented           0.0       0.0                     0.0   \n",
       "Precieved_Oriented               0.0       0.0                     0.0   \n",
       "Slanted                          0.0       0.0                     0.0   \n",
       "Unidentified                  2483.0    4297.0                  5607.0   \n",
       "No_sample                        0.0       0.0                     0.0   \n",
       "\n",
       "                        Precieved_Oriented  Slanted  Unidentified  No_sample  \n",
       "Not_Oriented                           0.0      0.0           0.0        0.0  \n",
       "Oriented                               0.0      0.0           0.0        0.0  \n",
       "Precieved_Not_Oriented                 0.0      0.0           0.0        0.0  \n",
       "Precieved_Oriented                     0.0      0.0           0.0        0.0  \n",
       "Slanted                                0.0      0.0           0.0        0.0  \n",
       "Unidentified                        6985.0   5572.0         172.0        0.0  \n",
       "No_sample                              0.0      0.0           0.0        0.0  "
      ]
     },
     "execution_count": 15,
     "metadata": {},
     "output_type": "execute_result"
    }
   ],
   "source": [
    "confusion_matrix_test_table"
   ]
  },
  {
   "cell_type": "markdown",
   "id": "3c6070b8-532b-4c4a-996e-b0f8f01ba43a",
   "metadata": {
    "jp-MarkdownHeadingCollapsed": true,
    "tags": []
   },
   "source": [
    "# Get the Sequences"
   ]
  },
  {
   "cell_type": "code",
   "execution_count": 16,
   "id": "831f6115-b9ef-4738-b7bc-b13a084fdf8e",
   "metadata": {},
   "outputs": [],
   "source": [
    "sequence_matrix = get_sequence_matrix(nested_annotations, list(range(20)), 7)"
   ]
  },
  {
   "cell_type": "code",
   "execution_count": 17,
   "id": "11bdfde2-e1df-4bfa-a6f9-cbe3c5fea775",
   "metadata": {},
   "outputs": [
    {
     "data": {
      "text/plain": [
       "(1348, 20)"
      ]
     },
     "execution_count": 17,
     "metadata": {},
     "output_type": "execute_result"
    }
   ],
   "source": [
    "sequence_matrix.shape"
   ]
  },
  {
   "cell_type": "markdown",
   "id": "6af4a493-9762-4f49-808d-4531348171e8",
   "metadata": {
    "tags": []
   },
   "source": [
    "# All classes: Get the naive transition counts and rates"
   ]
  },
  {
   "cell_type": "code",
   "execution_count": 18,
   "id": "58435ac4-14f4-4a45-a494-9c3de3999c51",
   "metadata": {},
   "outputs": [],
   "source": [
    "transition_count_matrix = get_transition_count_matrix(sequence_matrix, 7)"
   ]
  },
  {
   "cell_type": "code",
   "execution_count": 19,
   "id": "d3111278-cce1-4055-8029-74f738bfc040",
   "metadata": {},
   "outputs": [],
   "source": [
    "np.set_printoptions(precision=3, suppress=True)\n"
   ]
  },
  {
   "cell_type": "code",
   "execution_count": 20,
   "id": "6cafeab3-ba6b-4542-8afc-787e38468027",
   "metadata": {},
   "outputs": [
    {
     "data": {
      "text/html": [
       "<div>\n",
       "<style scoped>\n",
       "    .dataframe tbody tr th:only-of-type {\n",
       "        vertical-align: middle;\n",
       "    }\n",
       "\n",
       "    .dataframe tbody tr th {\n",
       "        vertical-align: top;\n",
       "    }\n",
       "\n",
       "    .dataframe thead th {\n",
       "        text-align: right;\n",
       "    }\n",
       "</style>\n",
       "<table border=\"1\" class=\"dataframe\">\n",
       "  <thead>\n",
       "    <tr style=\"text-align: right;\">\n",
       "      <th></th>\n",
       "      <th>Not_Oriented</th>\n",
       "      <th>Oriented</th>\n",
       "      <th>Precieved_Not_Oriented</th>\n",
       "      <th>Precieved_Oriented</th>\n",
       "      <th>Slanted</th>\n",
       "      <th>Unidentified</th>\n",
       "      <th>No_sample</th>\n",
       "    </tr>\n",
       "  </thead>\n",
       "  <tbody>\n",
       "    <tr>\n",
       "      <th>Not_Oriented</th>\n",
       "      <td>878.0</td>\n",
       "      <td>3.0</td>\n",
       "      <td>1093.0</td>\n",
       "      <td>49.0</td>\n",
       "      <td>348.0</td>\n",
       "      <td>6.0</td>\n",
       "      <td>47.0</td>\n",
       "    </tr>\n",
       "    <tr>\n",
       "      <th>Oriented</th>\n",
       "      <td>2.0</td>\n",
       "      <td>2294.0</td>\n",
       "      <td>25.0</td>\n",
       "      <td>1633.0</td>\n",
       "      <td>164.0</td>\n",
       "      <td>6.0</td>\n",
       "      <td>30.0</td>\n",
       "    </tr>\n",
       "    <tr>\n",
       "      <th>Precieved_Not_Oriented</th>\n",
       "      <td>1008.0</td>\n",
       "      <td>30.0</td>\n",
       "      <td>2412.0</td>\n",
       "      <td>339.0</td>\n",
       "      <td>1417.0</td>\n",
       "      <td>47.0</td>\n",
       "      <td>111.0</td>\n",
       "    </tr>\n",
       "    <tr>\n",
       "      <th>Precieved_Oriented</th>\n",
       "      <td>33.0</td>\n",
       "      <td>1588.0</td>\n",
       "      <td>307.0</td>\n",
       "      <td>3379.0</td>\n",
       "      <td>1201.0</td>\n",
       "      <td>32.0</td>\n",
       "      <td>73.0</td>\n",
       "    </tr>\n",
       "    <tr>\n",
       "      <th>Slanted</th>\n",
       "      <td>320.0</td>\n",
       "      <td>144.0</td>\n",
       "      <td>1376.0</td>\n",
       "      <td>1224.0</td>\n",
       "      <td>2121.0</td>\n",
       "      <td>35.0</td>\n",
       "      <td>59.0</td>\n",
       "    </tr>\n",
       "    <tr>\n",
       "      <th>Unidentified</th>\n",
       "      <td>5.0</td>\n",
       "      <td>9.0</td>\n",
       "      <td>47.0</td>\n",
       "      <td>32.0</td>\n",
       "      <td>38.0</td>\n",
       "      <td>20.0</td>\n",
       "      <td>4.0</td>\n",
       "    </tr>\n",
       "    <tr>\n",
       "      <th>No_sample</th>\n",
       "      <td>237.0</td>\n",
       "      <td>229.0</td>\n",
       "      <td>347.0</td>\n",
       "      <td>329.0</td>\n",
       "      <td>283.0</td>\n",
       "      <td>26.0</td>\n",
       "      <td>1520.0</td>\n",
       "    </tr>\n",
       "  </tbody>\n",
       "</table>\n",
       "</div>"
      ],
      "text/plain": [
       "                        Not_Oriented  Oriented  Precieved_Not_Oriented  \\\n",
       "Not_Oriented                   878.0       3.0                  1093.0   \n",
       "Oriented                         2.0    2294.0                    25.0   \n",
       "Precieved_Not_Oriented        1008.0      30.0                  2412.0   \n",
       "Precieved_Oriented              33.0    1588.0                   307.0   \n",
       "Slanted                        320.0     144.0                  1376.0   \n",
       "Unidentified                     5.0       9.0                    47.0   \n",
       "No_sample                      237.0     229.0                   347.0   \n",
       "\n",
       "                        Precieved_Oriented  Slanted  Unidentified  No_sample  \n",
       "Not_Oriented                          49.0    348.0           6.0       47.0  \n",
       "Oriented                            1633.0    164.0           6.0       30.0  \n",
       "Precieved_Not_Oriented               339.0   1417.0          47.0      111.0  \n",
       "Precieved_Oriented                  3379.0   1201.0          32.0       73.0  \n",
       "Slanted                             1224.0   2121.0          35.0       59.0  \n",
       "Unidentified                          32.0     38.0          20.0        4.0  \n",
       "No_sample                            329.0    283.0          26.0     1520.0  "
      ]
     },
     "execution_count": 20,
     "metadata": {},
     "output_type": "execute_result"
    }
   ],
   "source": [
    "naive_transition_table = pd.DataFrame(\n",
    "data=transition_count_matrix,\n",
    "index=list(constants.classes.keys()),\n",
    "columns=list(constants.classes.keys()))\n",
    "naive_transition_table"
   ]
  },
  {
   "cell_type": "code",
   "execution_count": 21,
   "id": "7d07aa5e-408d-4203-bc97-5d0b6b8ca515",
   "metadata": {},
   "outputs": [],
   "source": [
    "transition_rate_matrix = get_transition_rate_matrix(transition_count_matrix)"
   ]
  },
  {
   "cell_type": "code",
   "execution_count": 22,
   "id": "d9cca006-3f14-4972-a29a-180478e97036",
   "metadata": {},
   "outputs": [
    {
     "data": {
      "text/html": [
       "<div>\n",
       "<style scoped>\n",
       "    .dataframe tbody tr th:only-of-type {\n",
       "        vertical-align: middle;\n",
       "    }\n",
       "\n",
       "    .dataframe tbody tr th {\n",
       "        vertical-align: top;\n",
       "    }\n",
       "\n",
       "    .dataframe thead th {\n",
       "        text-align: right;\n",
       "    }\n",
       "</style>\n",
       "<table border=\"1\" class=\"dataframe\">\n",
       "  <thead>\n",
       "    <tr style=\"text-align: right;\">\n",
       "      <th></th>\n",
       "      <th>Not_Oriented</th>\n",
       "      <th>Oriented</th>\n",
       "      <th>Precieved_Not_Oriented</th>\n",
       "      <th>Precieved_Oriented</th>\n",
       "      <th>Slanted</th>\n",
       "      <th>Unidentified</th>\n",
       "      <th>No_sample</th>\n",
       "    </tr>\n",
       "  </thead>\n",
       "  <tbody>\n",
       "    <tr>\n",
       "      <th>Not_Oriented</th>\n",
       "      <td>0.362211</td>\n",
       "      <td>0.001238</td>\n",
       "      <td>0.450908</td>\n",
       "      <td>0.020215</td>\n",
       "      <td>0.143564</td>\n",
       "      <td>0.002475</td>\n",
       "      <td>0.019389</td>\n",
       "    </tr>\n",
       "    <tr>\n",
       "      <th>Oriented</th>\n",
       "      <td>0.000481</td>\n",
       "      <td>0.552239</td>\n",
       "      <td>0.006018</td>\n",
       "      <td>0.393115</td>\n",
       "      <td>0.039480</td>\n",
       "      <td>0.001444</td>\n",
       "      <td>0.007222</td>\n",
       "    </tr>\n",
       "    <tr>\n",
       "      <th>Precieved_Not_Oriented</th>\n",
       "      <td>0.187919</td>\n",
       "      <td>0.005593</td>\n",
       "      <td>0.449664</td>\n",
       "      <td>0.063199</td>\n",
       "      <td>0.264169</td>\n",
       "      <td>0.008762</td>\n",
       "      <td>0.020694</td>\n",
       "    </tr>\n",
       "    <tr>\n",
       "      <th>Precieved_Oriented</th>\n",
       "      <td>0.004990</td>\n",
       "      <td>0.240133</td>\n",
       "      <td>0.046424</td>\n",
       "      <td>0.510963</td>\n",
       "      <td>0.181612</td>\n",
       "      <td>0.004839</td>\n",
       "      <td>0.011039</td>\n",
       "    </tr>\n",
       "    <tr>\n",
       "      <th>Slanted</th>\n",
       "      <td>0.060618</td>\n",
       "      <td>0.027278</td>\n",
       "      <td>0.260655</td>\n",
       "      <td>0.231862</td>\n",
       "      <td>0.401781</td>\n",
       "      <td>0.006630</td>\n",
       "      <td>0.011176</td>\n",
       "    </tr>\n",
       "    <tr>\n",
       "      <th>Unidentified</th>\n",
       "      <td>0.032258</td>\n",
       "      <td>0.058065</td>\n",
       "      <td>0.303226</td>\n",
       "      <td>0.206452</td>\n",
       "      <td>0.245161</td>\n",
       "      <td>0.129032</td>\n",
       "      <td>0.025806</td>\n",
       "    </tr>\n",
       "    <tr>\n",
       "      <th>No_sample</th>\n",
       "      <td>0.079771</td>\n",
       "      <td>0.077078</td>\n",
       "      <td>0.116796</td>\n",
       "      <td>0.110737</td>\n",
       "      <td>0.095254</td>\n",
       "      <td>0.008751</td>\n",
       "      <td>0.511612</td>\n",
       "    </tr>\n",
       "  </tbody>\n",
       "</table>\n",
       "</div>"
      ],
      "text/plain": [
       "                        Not_Oriented  Oriented  Precieved_Not_Oriented  \\\n",
       "Not_Oriented                0.362211  0.001238                0.450908   \n",
       "Oriented                    0.000481  0.552239                0.006018   \n",
       "Precieved_Not_Oriented      0.187919  0.005593                0.449664   \n",
       "Precieved_Oriented          0.004990  0.240133                0.046424   \n",
       "Slanted                     0.060618  0.027278                0.260655   \n",
       "Unidentified                0.032258  0.058065                0.303226   \n",
       "No_sample                   0.079771  0.077078                0.116796   \n",
       "\n",
       "                        Precieved_Oriented   Slanted  Unidentified  No_sample  \n",
       "Not_Oriented                      0.020215  0.143564      0.002475   0.019389  \n",
       "Oriented                          0.393115  0.039480      0.001444   0.007222  \n",
       "Precieved_Not_Oriented            0.063199  0.264169      0.008762   0.020694  \n",
       "Precieved_Oriented                0.510963  0.181612      0.004839   0.011039  \n",
       "Slanted                           0.231862  0.401781      0.006630   0.011176  \n",
       "Unidentified                      0.206452  0.245161      0.129032   0.025806  \n",
       "No_sample                         0.110737  0.095254      0.008751   0.511612  "
      ]
     },
     "execution_count": 22,
     "metadata": {},
     "output_type": "execute_result"
    }
   ],
   "source": [
    "classes = {\n",
    "    \"Not_Oriented\": 0, \n",
    "    \"Oriented\": 1, \n",
    "    \"Precieved_Not_Oriented\": 2, \n",
    "    \"Precieved_Oriented\": 3, \n",
    "    \"Slanted\": 4, \n",
    "    \"Unidentified\": 5, \n",
    "    \"No_sample\": 6,\n",
    "}\n",
    "\n",
    "naive_transition_table = pd.DataFrame(\n",
    "data=transition_rate_matrix,\n",
    "index=list(classes.keys()),\n",
    "columns=list(classes.keys()))\n",
    "naive_transition_table"
   ]
  },
  {
   "cell_type": "markdown",
   "id": "fb744c1a-5c80-485b-84c6-875b14c5d65a",
   "metadata": {
    "tags": []
   },
   "source": [
    "# Three classes: Get the counts and transition rates"
   ]
  },
  {
   "cell_type": "code",
   "execution_count": 23,
   "id": "88df6d45-a875-4769-bf22-412854bbdbbb",
   "metadata": {},
   "outputs": [],
   "source": [
    "reannotations = reannotate(nested_annotations, constants.annotation_mapping)"
   ]
  },
  {
   "cell_type": "code",
   "execution_count": 24,
   "id": "d6219736-ab70-4df8-ae59-89ce54379547",
   "metadata": {},
   "outputs": [],
   "source": [
    "sequence_3_classes_matrix = get_sequence_matrix(reannotations, list(range(20)), 5)"
   ]
  },
  {
   "cell_type": "code",
   "execution_count": 26,
   "id": "7faae4e4-c8dd-4132-93b5-8fdb3b085b22",
   "metadata": {},
   "outputs": [
    {
     "data": {
      "text/plain": [
       "array([[0, 0, 0, ..., 0, 0, 0],\n",
       "       [0, 0, 0, ..., 0, 0, 0],\n",
       "       [2, 2, 0, ..., 1, 1, 1],\n",
       "       ...,\n",
       "       [0, 2, 0, ..., 2, 0, 2],\n",
       "       [2, 1, 2, ..., 1, 2, 2],\n",
       "       [4, 4, 4, ..., 2, 2, 3]])"
      ]
     },
     "execution_count": 26,
     "metadata": {},
     "output_type": "execute_result"
    }
   ],
   "source": [
    "sequence_3_classes_matrix"
   ]
  },
  {
   "cell_type": "code",
   "execution_count": 27,
   "id": "02aaf702-e1fc-4d4a-8621-17db55091eca",
   "metadata": {},
   "outputs": [],
   "source": [
    "transition_3_classes_count_matrix = get_transition_count_matrix(sequence_3_classes_matrix, 5)"
   ]
  },
  {
   "cell_type": "code",
   "execution_count": 32,
   "id": "d3093a85-8fc3-442e-9430-b3f988a9ba88",
   "metadata": {},
   "outputs": [
    {
     "data": {
      "text/html": [
       "<div>\n",
       "<style scoped>\n",
       "    .dataframe tbody tr th:only-of-type {\n",
       "        vertical-align: middle;\n",
       "    }\n",
       "\n",
       "    .dataframe tbody tr th {\n",
       "        vertical-align: top;\n",
       "    }\n",
       "\n",
       "    .dataframe thead th {\n",
       "        text-align: right;\n",
       "    }\n",
       "</style>\n",
       "<table border=\"1\" class=\"dataframe\">\n",
       "  <thead>\n",
       "    <tr style=\"text-align: right;\">\n",
       "      <th></th>\n",
       "      <th>Not_Oriented</th>\n",
       "      <th>Oriented</th>\n",
       "      <th>Slanted</th>\n",
       "      <th>Unidentified</th>\n",
       "      <th>No_sample</th>\n",
       "    </tr>\n",
       "  </thead>\n",
       "  <tbody>\n",
       "    <tr>\n",
       "      <th>Not_Oriented</th>\n",
       "      <td>5391.0</td>\n",
       "      <td>421.0</td>\n",
       "      <td>1765.0</td>\n",
       "      <td>53.0</td>\n",
       "      <td>158.0</td>\n",
       "    </tr>\n",
       "    <tr>\n",
       "      <th>Oriented</th>\n",
       "      <td>367.0</td>\n",
       "      <td>8894.0</td>\n",
       "      <td>1365.0</td>\n",
       "      <td>38.0</td>\n",
       "      <td>103.0</td>\n",
       "    </tr>\n",
       "    <tr>\n",
       "      <th>Slanted</th>\n",
       "      <td>1696.0</td>\n",
       "      <td>1368.0</td>\n",
       "      <td>2121.0</td>\n",
       "      <td>35.0</td>\n",
       "      <td>59.0</td>\n",
       "    </tr>\n",
       "    <tr>\n",
       "      <th>Unidentified</th>\n",
       "      <td>52.0</td>\n",
       "      <td>41.0</td>\n",
       "      <td>38.0</td>\n",
       "      <td>20.0</td>\n",
       "      <td>4.0</td>\n",
       "    </tr>\n",
       "    <tr>\n",
       "      <th>No_sample</th>\n",
       "      <td>584.0</td>\n",
       "      <td>558.0</td>\n",
       "      <td>283.0</td>\n",
       "      <td>26.0</td>\n",
       "      <td>1520.0</td>\n",
       "    </tr>\n",
       "  </tbody>\n",
       "</table>\n",
       "</div>"
      ],
      "text/plain": [
       "              Not_Oriented  Oriented  Slanted  Unidentified  No_sample\n",
       "Not_Oriented        5391.0     421.0   1765.0          53.0      158.0\n",
       "Oriented             367.0    8894.0   1365.0          38.0      103.0\n",
       "Slanted             1696.0    1368.0   2121.0          35.0       59.0\n",
       "Unidentified          52.0      41.0     38.0          20.0        4.0\n",
       "No_sample            584.0     558.0    283.0          26.0     1520.0"
      ]
     },
     "execution_count": 32,
     "metadata": {},
     "output_type": "execute_result"
    }
   ],
   "source": [
    "naive_transition_3_classes_table = pd.DataFrame(\n",
    "data=transition_3_classes_count_matrix,\n",
    "index=list(constants.classes_reduced.keys()),\n",
    "columns=list(constants.classes_reduced.keys()))\n",
    "naive_transition_3_classes_table"
   ]
  },
  {
   "cell_type": "code",
   "execution_count": 34,
   "id": "7219d1af-2ac2-45c2-9332-f9f9c5be76c8",
   "metadata": {},
   "outputs": [],
   "source": [
    "transition_3_classes_rate_matrix = get_transition_rate_matrix(transition_3_classes_count_matrix)"
   ]
  },
  {
   "cell_type": "code",
   "execution_count": 35,
   "id": "3904d4b2-f3af-4368-9c58-931d0c7e371c",
   "metadata": {},
   "outputs": [
    {
     "data": {
      "text/html": [
       "<div>\n",
       "<style scoped>\n",
       "    .dataframe tbody tr th:only-of-type {\n",
       "        vertical-align: middle;\n",
       "    }\n",
       "\n",
       "    .dataframe tbody tr th {\n",
       "        vertical-align: top;\n",
       "    }\n",
       "\n",
       "    .dataframe thead th {\n",
       "        text-align: right;\n",
       "    }\n",
       "</style>\n",
       "<table border=\"1\" class=\"dataframe\">\n",
       "  <thead>\n",
       "    <tr style=\"text-align: right;\">\n",
       "      <th></th>\n",
       "      <th>Not_Oriented</th>\n",
       "      <th>Oriented</th>\n",
       "      <th>Slanted</th>\n",
       "      <th>Unidentified</th>\n",
       "      <th>No_sample</th>\n",
       "    </tr>\n",
       "  </thead>\n",
       "  <tbody>\n",
       "    <tr>\n",
       "      <th>Not_Oriented</th>\n",
       "      <td>0.692219</td>\n",
       "      <td>0.054058</td>\n",
       "      <td>0.226631</td>\n",
       "      <td>0.006805</td>\n",
       "      <td>0.020288</td>\n",
       "    </tr>\n",
       "    <tr>\n",
       "      <th>Oriented</th>\n",
       "      <td>0.034086</td>\n",
       "      <td>0.826043</td>\n",
       "      <td>0.126776</td>\n",
       "      <td>0.003529</td>\n",
       "      <td>0.009566</td>\n",
       "    </tr>\n",
       "    <tr>\n",
       "      <th>Slanted</th>\n",
       "      <td>0.321273</td>\n",
       "      <td>0.259140</td>\n",
       "      <td>0.401781</td>\n",
       "      <td>0.006630</td>\n",
       "      <td>0.011176</td>\n",
       "    </tr>\n",
       "    <tr>\n",
       "      <th>Unidentified</th>\n",
       "      <td>0.335484</td>\n",
       "      <td>0.264516</td>\n",
       "      <td>0.245161</td>\n",
       "      <td>0.129032</td>\n",
       "      <td>0.025806</td>\n",
       "    </tr>\n",
       "    <tr>\n",
       "      <th>No_sample</th>\n",
       "      <td>0.196567</td>\n",
       "      <td>0.187816</td>\n",
       "      <td>0.095254</td>\n",
       "      <td>0.008751</td>\n",
       "      <td>0.511612</td>\n",
       "    </tr>\n",
       "  </tbody>\n",
       "</table>\n",
       "</div>"
      ],
      "text/plain": [
       "              Not_Oriented  Oriented   Slanted  Unidentified  No_sample\n",
       "Not_Oriented      0.692219  0.054058  0.226631      0.006805   0.020288\n",
       "Oriented          0.034086  0.826043  0.126776      0.003529   0.009566\n",
       "Slanted           0.321273  0.259140  0.401781      0.006630   0.011176\n",
       "Unidentified      0.335484  0.264516  0.245161      0.129032   0.025806\n",
       "No_sample         0.196567  0.187816  0.095254      0.008751   0.511612"
      ]
     },
     "execution_count": 35,
     "metadata": {},
     "output_type": "execute_result"
    }
   ],
   "source": [
    "\n",
    "naive_transition_table = pd.DataFrame(\n",
    "data=transition_3_classes_rate_matrix,\n",
    "index=list(constants.classes_reduced.keys()),\n",
    "columns=list(constants.classes_reduced.keys()))\n",
    "naive_transition_table"
   ]
  },
  {
   "cell_type": "markdown",
   "id": "e2a46af7-b116-42c0-864a-2f3e69758bf7",
   "metadata": {
    "tags": []
   },
   "source": [
    "# Hidden Markov model"
   ]
  },
  {
   "cell_type": "markdown",
   "id": "022c1832-391c-4501-8609-b2ba80cfaa38",
   "metadata": {},
   "source": [
    "## Load the emission matrix"
   ]
  },
  {
   "cell_type": "code",
   "execution_count": 36,
   "id": "4f666150-c353-45ae-b250-f8ffaa5873be",
   "metadata": {},
   "outputs": [],
   "source": [
    "emission_matrix_np = np.load(emission_matrix_path)"
   ]
  },
  {
   "cell_type": "markdown",
   "id": "1db9e945-d003-4271-9a9b-bd75055bb9ca",
   "metadata": {},
   "source": [
    "## Define the model"
   ]
  },
  {
   "cell_type": "code",
   "execution_count": 37,
   "id": "b9ce28ac-3e10-4fd1-a477-a0d021549622",
   "metadata": {},
   "outputs": [],
   "source": [
    "model = hmm.MultinomialHMM(n_components=7, n_iter=n_iter, params=\"st\", init_params=\"st\")"
   ]
  },
  {
   "cell_type": "code",
   "execution_count": 38,
   "id": "56703c06-49e6-4e61-9575-ca3d8efe8f04",
   "metadata": {},
   "outputs": [],
   "source": [
    "model.emissionprob_ = emission_matrix_np"
   ]
  },
  {
   "cell_type": "markdown",
   "id": "5bd05759-99fa-4230-9956-6887140d6e42",
   "metadata": {},
   "source": [
    "## Fit the model"
   ]
  },
  {
   "cell_type": "code",
   "execution_count": 39,
   "id": "53599006-f002-4b19-8b4f-66e42b11ede0",
   "metadata": {},
   "outputs": [
    {
     "data": {
      "text/plain": [
       "MultinomialHMM(init_params='st', n_components=7, n_iter=1000, params='st',\n",
       "               random_state=RandomState(MT19937) at 0x18D3FA82048)"
      ]
     },
     "execution_count": 39,
     "metadata": {},
     "output_type": "execute_result"
    }
   ],
   "source": [
    "model.fit(sequence_matrix.reshape(-1, 1), [sequence_matrix.shape[1]]*sequence_matrix.shape[0])"
   ]
  },
  {
   "cell_type": "markdown",
   "id": "dca8959e-d367-4856-85d9-25123a5b1054",
   "metadata": {},
   "source": [
    "## Format the model output"
   ]
  },
  {
   "cell_type": "code",
   "execution_count": 40,
   "id": "fd6cff48-a924-4219-ae93-483321dff465",
   "metadata": {},
   "outputs": [],
   "source": [
    "\n",
    "transition_table = pd.DataFrame(\n",
    "data=model.transmat_,\n",
    "index=list(constants.classes.keys()),\n",
    "columns=list(constants.classes.keys()))\n"
   ]
  },
  {
   "cell_type": "code",
   "execution_count": 41,
   "id": "3bf6b954-ccff-4b25-8a82-34960d0a11ce",
   "metadata": {},
   "outputs": [
    {
     "data": {
      "text/html": [
       "<div>\n",
       "<style scoped>\n",
       "    .dataframe tbody tr th:only-of-type {\n",
       "        vertical-align: middle;\n",
       "    }\n",
       "\n",
       "    .dataframe tbody tr th {\n",
       "        vertical-align: top;\n",
       "    }\n",
       "\n",
       "    .dataframe thead th {\n",
       "        text-align: right;\n",
       "    }\n",
       "</style>\n",
       "<table border=\"1\" class=\"dataframe\">\n",
       "  <thead>\n",
       "    <tr style=\"text-align: right;\">\n",
       "      <th></th>\n",
       "      <th>Not_Oriented</th>\n",
       "      <th>Oriented</th>\n",
       "      <th>Precieved_Not_Oriented</th>\n",
       "      <th>Precieved_Oriented</th>\n",
       "      <th>Slanted</th>\n",
       "      <th>Unidentified</th>\n",
       "      <th>No_sample</th>\n",
       "    </tr>\n",
       "  </thead>\n",
       "  <tbody>\n",
       "    <tr>\n",
       "      <th>Not_Oriented</th>\n",
       "      <td>8.727039e-01</td>\n",
       "      <td>9.237620e-66</td>\n",
       "      <td>1.272961e-01</td>\n",
       "      <td>2.123122e-20</td>\n",
       "      <td>2.977767e-11</td>\n",
       "      <td>8.032589e-14</td>\n",
       "      <td>8.656361e-12</td>\n",
       "    </tr>\n",
       "    <tr>\n",
       "      <th>Oriented</th>\n",
       "      <td>2.646184e-79</td>\n",
       "      <td>9.139030e-01</td>\n",
       "      <td>3.128087e-38</td>\n",
       "      <td>8.407461e-02</td>\n",
       "      <td>3.008834e-21</td>\n",
       "      <td>5.710032e-23</td>\n",
       "      <td>2.022359e-03</td>\n",
       "    </tr>\n",
       "    <tr>\n",
       "      <th>Precieved_Not_Oriented</th>\n",
       "      <td>9.530764e-04</td>\n",
       "      <td>2.369053e-04</td>\n",
       "      <td>9.024731e-01</td>\n",
       "      <td>6.738573e-13</td>\n",
       "      <td>4.841096e-02</td>\n",
       "      <td>2.080797e-02</td>\n",
       "      <td>2.711798e-02</td>\n",
       "    </tr>\n",
       "    <tr>\n",
       "      <th>Precieved_Oriented</th>\n",
       "      <td>9.833260e-60</td>\n",
       "      <td>1.093806e-02</td>\n",
       "      <td>1.039691e-20</td>\n",
       "      <td>9.227075e-01</td>\n",
       "      <td>4.518082e-02</td>\n",
       "      <td>1.090285e-02</td>\n",
       "      <td>1.027081e-02</td>\n",
       "    </tr>\n",
       "    <tr>\n",
       "      <th>Slanted</th>\n",
       "      <td>6.776825e-14</td>\n",
       "      <td>1.219305e-20</td>\n",
       "      <td>3.778590e-02</td>\n",
       "      <td>5.440188e-02</td>\n",
       "      <td>8.760826e-01</td>\n",
       "      <td>2.393004e-02</td>\n",
       "      <td>7.799553e-03</td>\n",
       "    </tr>\n",
       "    <tr>\n",
       "      <th>Unidentified</th>\n",
       "      <td>2.554548e-17</td>\n",
       "      <td>3.424212e-03</td>\n",
       "      <td>1.249222e-01</td>\n",
       "      <td>1.137648e-01</td>\n",
       "      <td>1.254939e-01</td>\n",
       "      <td>6.025306e-01</td>\n",
       "      <td>2.986438e-02</td>\n",
       "    </tr>\n",
       "    <tr>\n",
       "      <th>No_sample</th>\n",
       "      <td>2.010158e-18</td>\n",
       "      <td>8.156785e-03</td>\n",
       "      <td>8.715646e-02</td>\n",
       "      <td>2.621225e-03</td>\n",
       "      <td>1.404657e-09</td>\n",
       "      <td>3.576855e-02</td>\n",
       "      <td>8.662970e-01</td>\n",
       "    </tr>\n",
       "  </tbody>\n",
       "</table>\n",
       "</div>"
      ],
      "text/plain": [
       "                        Not_Oriented      Oriented  Precieved_Not_Oriented  \\\n",
       "Not_Oriented            8.727039e-01  9.237620e-66            1.272961e-01   \n",
       "Oriented                2.646184e-79  9.139030e-01            3.128087e-38   \n",
       "Precieved_Not_Oriented  9.530764e-04  2.369053e-04            9.024731e-01   \n",
       "Precieved_Oriented      9.833260e-60  1.093806e-02            1.039691e-20   \n",
       "Slanted                 6.776825e-14  1.219305e-20            3.778590e-02   \n",
       "Unidentified            2.554548e-17  3.424212e-03            1.249222e-01   \n",
       "No_sample               2.010158e-18  8.156785e-03            8.715646e-02   \n",
       "\n",
       "                        Precieved_Oriented       Slanted  Unidentified  \\\n",
       "Not_Oriented                  2.123122e-20  2.977767e-11  8.032589e-14   \n",
       "Oriented                      8.407461e-02  3.008834e-21  5.710032e-23   \n",
       "Precieved_Not_Oriented        6.738573e-13  4.841096e-02  2.080797e-02   \n",
       "Precieved_Oriented            9.227075e-01  4.518082e-02  1.090285e-02   \n",
       "Slanted                       5.440188e-02  8.760826e-01  2.393004e-02   \n",
       "Unidentified                  1.137648e-01  1.254939e-01  6.025306e-01   \n",
       "No_sample                     2.621225e-03  1.404657e-09  3.576855e-02   \n",
       "\n",
       "                           No_sample  \n",
       "Not_Oriented            8.656361e-12  \n",
       "Oriented                2.022359e-03  \n",
       "Precieved_Not_Oriented  2.711798e-02  \n",
       "Precieved_Oriented      1.027081e-02  \n",
       "Slanted                 7.799553e-03  \n",
       "Unidentified            2.986438e-02  \n",
       "No_sample               8.662970e-01  "
      ]
     },
     "execution_count": 41,
     "metadata": {},
     "output_type": "execute_result"
    }
   ],
   "source": [
    "transition_table"
   ]
  },
  {
   "cell_type": "markdown",
   "id": "e2939008-50cd-472c-9b6a-011e99e684eb",
   "metadata": {
    "tags": []
   },
   "source": [
    "# Hidden Markov model: Three Classes"
   ]
  },
  {
   "cell_type": "markdown",
   "id": "89a32520-643a-4df7-8672-15051935f0a1",
   "metadata": {},
   "source": [
    "## Load the emission matrix"
   ]
  },
  {
   "cell_type": "code",
   "execution_count": 42,
   "id": "565a3ab6-19e6-4f69-be42-58614da1a0e4",
   "metadata": {},
   "outputs": [],
   "source": [
    "emission_matrix_np = np.load(emission_matrix_path_three_classes)"
   ]
  },
  {
   "cell_type": "markdown",
   "id": "e868fde1-1475-4db2-868e-857905a49130",
   "metadata": {
    "tags": []
   },
   "source": [
    "## Define the model"
   ]
  },
  {
   "cell_type": "code",
   "execution_count": 43,
   "id": "f81c0fad-50d5-469a-ac8b-09a7c8fd3f76",
   "metadata": {},
   "outputs": [],
   "source": [
    "model = hmm.MultinomialHMM(n_components=5, n_iter=n_iter, params=\"st\", init_params=\"st\")"
   ]
  },
  {
   "cell_type": "code",
   "execution_count": 44,
   "id": "e0b34843-e248-4d4e-8a87-2e5ed7af08cc",
   "metadata": {},
   "outputs": [],
   "source": [
    "model.emissionprob_ = emission_matrix_np"
   ]
  },
  {
   "cell_type": "markdown",
   "id": "9b709493-207c-4bc0-89ed-47be244bc3f8",
   "metadata": {},
   "source": [
    "## Fit the model"
   ]
  },
  {
   "cell_type": "code",
   "execution_count": 45,
   "id": "dbf15e70-c9f7-4d9b-a95e-1435f9e97dc7",
   "metadata": {},
   "outputs": [
    {
     "data": {
      "text/plain": [
       "MultinomialHMM(init_params='st', n_components=5, n_iter=1000, params='st',\n",
       "               random_state=RandomState(MT19937) at 0x18D3FA82048)"
      ]
     },
     "execution_count": 45,
     "metadata": {},
     "output_type": "execute_result"
    }
   ],
   "source": [
    "model.fit(sequence_3_classes_matrix.reshape(-1, 1), [sequence_3_classes_matrix.shape[1]]*sequence_3_classes_matrix.shape[0])"
   ]
  },
  {
   "cell_type": "markdown",
   "id": "0a0138f3-c6dc-490e-9398-f0f538439db2",
   "metadata": {},
   "source": [
    "## Format the model output"
   ]
  },
  {
   "cell_type": "code",
   "execution_count": 46,
   "id": "d21ce39a-3eac-4d50-87ee-e3b59d95016c",
   "metadata": {},
   "outputs": [],
   "source": [
    "\n",
    "transition_table = pd.DataFrame(\n",
    "data=model.transmat_,\n",
    "index=list(constants.classes_reduced.keys()),\n",
    "columns=list(constants.classes_reduced.keys()))\n"
   ]
  },
  {
   "cell_type": "code",
   "execution_count": 47,
   "id": "ce24cd04-19db-4b4c-8f40-88422c8f32f2",
   "metadata": {},
   "outputs": [
    {
     "data": {
      "text/html": [
       "<div>\n",
       "<style scoped>\n",
       "    .dataframe tbody tr th:only-of-type {\n",
       "        vertical-align: middle;\n",
       "    }\n",
       "\n",
       "    .dataframe tbody tr th {\n",
       "        vertical-align: top;\n",
       "    }\n",
       "\n",
       "    .dataframe thead th {\n",
       "        text-align: right;\n",
       "    }\n",
       "</style>\n",
       "<table border=\"1\" class=\"dataframe\">\n",
       "  <thead>\n",
       "    <tr style=\"text-align: right;\">\n",
       "      <th></th>\n",
       "      <th>Not_Oriented</th>\n",
       "      <th>Oriented</th>\n",
       "      <th>Slanted</th>\n",
       "      <th>Unidentified</th>\n",
       "      <th>No_sample</th>\n",
       "    </tr>\n",
       "  </thead>\n",
       "  <tbody>\n",
       "    <tr>\n",
       "      <th>Not_Oriented</th>\n",
       "      <td>9.180542e-01</td>\n",
       "      <td>4.577813e-09</td>\n",
       "      <td>0.051744</td>\n",
       "      <td>0.008790</td>\n",
       "      <td>0.021412</td>\n",
       "    </tr>\n",
       "    <tr>\n",
       "      <th>Oriented</th>\n",
       "      <td>1.286232e-23</td>\n",
       "      <td>9.438553e-01</td>\n",
       "      <td>0.044746</td>\n",
       "      <td>0.002982</td>\n",
       "      <td>0.008417</td>\n",
       "    </tr>\n",
       "    <tr>\n",
       "      <th>Slanted</th>\n",
       "      <td>4.229666e-02</td>\n",
       "      <td>6.746582e-02</td>\n",
       "      <td>0.863967</td>\n",
       "      <td>0.016977</td>\n",
       "      <td>0.009293</td>\n",
       "    </tr>\n",
       "    <tr>\n",
       "      <th>Unidentified</th>\n",
       "      <td>9.989697e-02</td>\n",
       "      <td>8.824061e-02</td>\n",
       "      <td>0.130055</td>\n",
       "      <td>0.646033</td>\n",
       "      <td>0.035775</td>\n",
       "    </tr>\n",
       "    <tr>\n",
       "      <th>No_sample</th>\n",
       "      <td>8.280685e-02</td>\n",
       "      <td>1.215243e-02</td>\n",
       "      <td>0.003460</td>\n",
       "      <td>0.035284</td>\n",
       "      <td>0.866297</td>\n",
       "    </tr>\n",
       "  </tbody>\n",
       "</table>\n",
       "</div>"
      ],
      "text/plain": [
       "              Not_Oriented      Oriented   Slanted  Unidentified  No_sample\n",
       "Not_Oriented  9.180542e-01  4.577813e-09  0.051744      0.008790   0.021412\n",
       "Oriented      1.286232e-23  9.438553e-01  0.044746      0.002982   0.008417\n",
       "Slanted       4.229666e-02  6.746582e-02  0.863967      0.016977   0.009293\n",
       "Unidentified  9.989697e-02  8.824061e-02  0.130055      0.646033   0.035775\n",
       "No_sample     8.280685e-02  1.215243e-02  0.003460      0.035284   0.866297"
      ]
     },
     "execution_count": 47,
     "metadata": {},
     "output_type": "execute_result"
    }
   ],
   "source": [
    "transition_table"
   ]
  },
  {
   "cell_type": "markdown",
   "id": "88e94961-ebf6-4aad-9824-b133abe0c7b3",
   "metadata": {},
   "source": [
    "# Changing sequences"
   ]
  },
  {
   "cell_type": "code",
   "execution_count": 48,
   "id": "77536600-fd57-4b37-bec6-e0891bf34aa0",
   "metadata": {},
   "outputs": [],
   "source": [
    "states = {}\n",
    "for experiment, particles in reannotations.items():\n",
    "    for particle, frames in particles.items():\n",
    "        frame_list = []\n",
    "        for frame, annotation in frames.items():\n",
    "            frame_list.append(annotation[\"assigned\"])\n",
    "            frame_array = np.array(frame_list)\n",
    "        # print(frame_array)\n",
    "        # print(tuple(np.unique(frame_array)))\n",
    "        if tuple(np.unique(frame_array)) not in states:\n",
    "            states[tuple(np.unique(frame_array))] = set()\n",
    "        states[tuple(np.unique(frame_array))] = states[tuple(np.unique(frame_array))].union(((experiment, particle),))"
   ]
  },
  {
   "cell_type": "code",
   "execution_count": null,
   "id": "dc6af0f2-71da-4778-8dd6-b0218bfe0908",
   "metadata": {},
   "outputs": [
    {
     "name": "stdout",
     "output_type": "stream",
     "text": [
      "Saving figures for state: (0, 2)\n"
     ]
    }
   ],
   "source": [
    "save_all_state_figs(states, testset, output_dir, reannotations,)\n"
   ]
  }
 ],
 "metadata": {
  "kernelspec": {
   "display_name": "Python 3",
   "language": "python",
   "name": "python3"
  },
  "language_info": {
   "codemirror_mode": {
    "name": "ipython",
    "version": 3
   },
   "file_extension": ".py",
   "mimetype": "text/x-python",
   "name": "python",
   "nbconvert_exporter": "python",
   "pygments_lexer": "ipython3",
   "version": "3.7.10"
  }
 },
 "nbformat": 4,
 "nbformat_minor": 5
}
